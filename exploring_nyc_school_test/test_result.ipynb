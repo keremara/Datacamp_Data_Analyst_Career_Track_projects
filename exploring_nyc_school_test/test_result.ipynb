{
 "cells": [
  {
   "cell_type": "markdown",
   "id": "c433baac-72c9-47b0-823d-2cf8a4184f0a",
   "metadata": {},
   "source": [
    "# Public School SATs"
   ]
  },
  {
   "cell_type": "markdown",
   "id": "c5466af1-6f41-4c9b-aa5e-4ef9d1e705b4",
   "metadata": {},
   "source": [
    "Public School SAT"
   ]
  },
  {
   "cell_type": "markdown",
   "id": "fe0ea788-58dd-459e-8976-fafdb5c05c6d",
   "metadata": {},
   "source": [
    "![New York City schoolbus](schoolbus.jpg)\n",
    "\n",
    "Photo by [Jannis Lucas](https://unsplash.com/@jannis_lucas) on [Unsplash](https://unsplash.com).\n",
    "<br>\n",
    "\n",
    "Every year, American high school students take SATs, which are standardized tests intended to measure literacy, numeracy, and writing skills. There are three sections - reading, math, and writing, each with a **maximum score of 800 points**. These tests are extremely important for students and colleges, as they play a pivotal role in the admissions process.\n",
    "\n",
    "Analyzing the performance of schools is important for a variety of stakeholders, including policy and education professionals, researchers, government, and even parents considering which school their children should attend. \n",
    "\n",
    "You have been provided with a dataset called `schools.csv`, which is previewed below.\n",
    "\n",
    "You have been tasked with answering three key questions about New York City (NYC) public school SAT performance."
   ]
  },
  {
   "cell_type": "code",
   "execution_count": 87,
   "id": "d0eb4f16-5a99-460d-a5ba-706b7ef0bbe7",
   "metadata": {
    "executionCancelledAt": null,
    "executionTime": 27,
    "id": "bA5ajAmk7XH6",
    "lastExecutedAt": 1731075893390,
    "lastExecutedByKernel": "776ba79b-155b-4e5e-b478-25c90596089f",
    "lastScheduledRunId": null,
    "lastSuccessfullyExecutedCode": "# Re-run this cell \nimport pandas as pd\n\n# Read in the data\nschools = pd.read_csv(\"schools.csv\")\n\n# Preview the data\nschools.head()\n\n# Start coding here...\n# Add as many cells as you like...",
    "outputsMetadata": {
     "0": {
      "height": 237,
      "type": "dataFrame"
     }
    }
   },
   "outputs": [
    {
     "data": {
      "application/com.datacamp.data-table.v2+json": {
       "table": {
        "data": {
         "average_math": [
          657,
          395,
          418,
          613,
          410
         ],
         "average_reading": [
          601,
          411,
          428,
          453,
          406
         ],
         "average_writing": [
          601,
          387,
          415,
          463,
          381
         ],
         "borough": [
          "Manhattan",
          "Manhattan",
          "Manhattan",
          "Manhattan",
          "Manhattan"
         ],
         "building_code": [
          "M022",
          "M445",
          "M445",
          "M445",
          "M056"
         ],
         "index": [
          0,
          1,
          2,
          3,
          4
         ],
         "percent_tested": [
          null,
          78.9,
          65.1,
          95.9,
          59.7
         ],
         "school_name": [
          "New Explorations into Science, Technology and Math High School",
          "Essex Street Academy",
          "Lower Manhattan Arts Academy",
          "High School for Dual Language and Asian Studies",
          "Henry Street School for International Studies"
         ]
        },
        "schema": {
         "fields": [
          {
           "name": "index",
           "type": "integer"
          },
          {
           "name": "school_name",
           "type": "string"
          },
          {
           "name": "borough",
           "type": "string"
          },
          {
           "name": "building_code",
           "type": "string"
          },
          {
           "name": "average_math",
           "type": "integer"
          },
          {
           "name": "average_reading",
           "type": "integer"
          },
          {
           "name": "average_writing",
           "type": "integer"
          },
          {
           "name": "percent_tested",
           "type": "number"
          }
         ],
         "pandas_version": "1.4.0",
         "primaryKey": [
          "index"
         ]
        }
       },
       "total_rows": 5,
       "truncation_type": null
      },
      "text/html": [
       "<div>\n",
       "<style scoped>\n",
       "    .dataframe tbody tr th:only-of-type {\n",
       "        vertical-align: middle;\n",
       "    }\n",
       "\n",
       "    .dataframe tbody tr th {\n",
       "        vertical-align: top;\n",
       "    }\n",
       "\n",
       "    .dataframe thead th {\n",
       "        text-align: right;\n",
       "    }\n",
       "</style>\n",
       "<table border=\"1\" class=\"dataframe\">\n",
       "  <thead>\n",
       "    <tr style=\"text-align: right;\">\n",
       "      <th></th>\n",
       "      <th>school_name</th>\n",
       "      <th>borough</th>\n",
       "      <th>building_code</th>\n",
       "      <th>average_math</th>\n",
       "      <th>average_reading</th>\n",
       "      <th>average_writing</th>\n",
       "      <th>percent_tested</th>\n",
       "    </tr>\n",
       "  </thead>\n",
       "  <tbody>\n",
       "    <tr>\n",
       "      <th>0</th>\n",
       "      <td>New Explorations into Science, Technology and ...</td>\n",
       "      <td>Manhattan</td>\n",
       "      <td>M022</td>\n",
       "      <td>657</td>\n",
       "      <td>601</td>\n",
       "      <td>601</td>\n",
       "      <td>NaN</td>\n",
       "    </tr>\n",
       "    <tr>\n",
       "      <th>1</th>\n",
       "      <td>Essex Street Academy</td>\n",
       "      <td>Manhattan</td>\n",
       "      <td>M445</td>\n",
       "      <td>395</td>\n",
       "      <td>411</td>\n",
       "      <td>387</td>\n",
       "      <td>78.9</td>\n",
       "    </tr>\n",
       "    <tr>\n",
       "      <th>2</th>\n",
       "      <td>Lower Manhattan Arts Academy</td>\n",
       "      <td>Manhattan</td>\n",
       "      <td>M445</td>\n",
       "      <td>418</td>\n",
       "      <td>428</td>\n",
       "      <td>415</td>\n",
       "      <td>65.1</td>\n",
       "    </tr>\n",
       "    <tr>\n",
       "      <th>3</th>\n",
       "      <td>High School for Dual Language and Asian Studies</td>\n",
       "      <td>Manhattan</td>\n",
       "      <td>M445</td>\n",
       "      <td>613</td>\n",
       "      <td>453</td>\n",
       "      <td>463</td>\n",
       "      <td>95.9</td>\n",
       "    </tr>\n",
       "    <tr>\n",
       "      <th>4</th>\n",
       "      <td>Henry Street School for International Studies</td>\n",
       "      <td>Manhattan</td>\n",
       "      <td>M056</td>\n",
       "      <td>410</td>\n",
       "      <td>406</td>\n",
       "      <td>381</td>\n",
       "      <td>59.7</td>\n",
       "    </tr>\n",
       "  </tbody>\n",
       "</table>\n",
       "</div>"
      ],
      "text/plain": [
       "                                         school_name  ... percent_tested\n",
       "0  New Explorations into Science, Technology and ...  ...            NaN\n",
       "1                               Essex Street Academy  ...           78.9\n",
       "2                       Lower Manhattan Arts Academy  ...           65.1\n",
       "3    High School for Dual Language and Asian Studies  ...           95.9\n",
       "4      Henry Street School for International Studies  ...           59.7\n",
       "\n",
       "[5 rows x 7 columns]"
      ]
     },
     "execution_count": 87,
     "metadata": {},
     "output_type": "execute_result"
    }
   ],
   "source": [
    "# Re-run this cell \n",
    "import pandas as pd\n",
    "\n",
    "# Read in the data\n",
    "schools = pd.read_csv(\"schools.csv\")\n",
    "\n",
    "# Preview the data\n",
    "schools.head()\n",
    "\n",
    "# Start coding here...\n",
    "# Add as many cells as you like..."
   ]
  },
  {
   "cell_type": "code",
   "execution_count": 88,
   "id": "baa20984-dac7-4ae4-a016-87fd7ece3bc0",
   "metadata": {
    "executionCancelledAt": null,
    "executionTime": 55,
    "lastExecutedAt": 1731075893445,
    "lastExecutedByKernel": "776ba79b-155b-4e5e-b478-25c90596089f",
    "lastScheduledRunId": null,
    "lastSuccessfullyExecutedCode": "schools.shape"
   },
   "outputs": [
    {
     "data": {
      "text/plain": [
       "(375, 7)"
      ]
     },
     "execution_count": 88,
     "metadata": {},
     "output_type": "execute_result"
    }
   ],
   "source": [
    "schools.shape"
   ]
  },
  {
   "cell_type": "code",
   "execution_count": 89,
   "id": "7bd20112-7232-4207-a2f7-2ebbd2cd9455",
   "metadata": {
    "executionCancelledAt": null,
    "executionTime": 50,
    "lastExecutedAt": 1731075893495,
    "lastExecutedByKernel": "776ba79b-155b-4e5e-b478-25c90596089f",
    "lastScheduledRunId": null,
    "lastSuccessfullyExecutedCode": "schools.columns"
   },
   "outputs": [
    {
     "data": {
      "text/plain": [
       "Index(['school_name', 'borough', 'building_code', 'average_math',\n",
       "       'average_reading', 'average_writing', 'percent_tested'],\n",
       "      dtype='object')"
      ]
     },
     "execution_count": 89,
     "metadata": {},
     "output_type": "execute_result"
    }
   ],
   "source": [
    "schools.columns"
   ]
  },
  {
   "cell_type": "code",
   "execution_count": 90,
   "id": "c963fa06-aad9-47c7-a35d-00fb2568007c",
   "metadata": {
    "executionCancelledAt": null,
    "executionTime": 52,
    "lastExecutedAt": 1731075893547,
    "lastExecutedByKernel": "776ba79b-155b-4e5e-b478-25c90596089f",
    "lastScheduledRunId": null,
    "lastSuccessfullyExecutedCode": "schools['borough'].unique()"
   },
   "outputs": [
    {
     "data": {
      "text/plain": [
       "array(['Manhattan', 'Staten Island', 'Bronx', 'Queens', 'Brooklyn'],\n",
       "      dtype=object)"
      ]
     },
     "execution_count": 90,
     "metadata": {},
     "output_type": "execute_result"
    }
   ],
   "source": [
    "schools['borough'].unique()"
   ]
  },
  {
   "cell_type": "markdown",
   "id": "7a7690f6-88bb-4ec0-9388-d6d2952e6c76",
   "metadata": {},
   "source": [
    "Best math schools"
   ]
  },
  {
   "cell_type": "code",
   "execution_count": 91,
   "id": "91946409-a471-45b3-9d52-09ae7570275f",
   "metadata": {
    "executionCancelledAt": null,
    "executionTime": 48,
    "lastExecutedAt": 1731075893595,
    "lastExecutedByKernel": "776ba79b-155b-4e5e-b478-25c90596089f",
    "lastScheduledRunId": null,
    "lastSuccessfullyExecutedCode": "best_math_thresh = 800 * 0.8"
   },
   "outputs": [],
   "source": [
    "best_math_thresh = 800 * 0.8"
   ]
  },
  {
   "cell_type": "code",
   "execution_count": 92,
   "id": "516671a0-f43b-475f-98df-1f5b9e1cbbcd",
   "metadata": {
    "executionCancelledAt": null,
    "executionTime": 56,
    "lastExecutedAt": 1731075893651,
    "lastExecutedByKernel": "776ba79b-155b-4e5e-b478-25c90596089f",
    "lastScheduledRunId": null,
    "lastSuccessfullyExecutedCode": "df = schools[schools['average_math'] > best_math_thresh]"
   },
   "outputs": [],
   "source": [
    "df = schools[schools['average_math'] > best_math_thresh]"
   ]
  },
  {
   "cell_type": "code",
   "execution_count": 93,
   "id": "cd3821b3-c46b-4d6a-b19b-5e5fbe906102",
   "metadata": {
    "executionCancelledAt": null,
    "executionTime": 64,
    "lastExecutedAt": 1731075893715,
    "lastExecutedByKernel": "776ba79b-155b-4e5e-b478-25c90596089f",
    "lastScheduledRunId": null,
    "lastSuccessfullyExecutedCode": "df.head()",
    "outputsMetadata": {
     "0": {
      "height": 222,
      "type": "dataFrame"
     }
    }
   },
   "outputs": [
    {
     "data": {
      "application/com.datacamp.data-table.v2+json": {
       "table": {
        "data": {
         "average_math": [
          657,
          641,
          683,
          754,
          711
         ],
         "average_reading": [
          601,
          617,
          610,
          697,
          660
         ],
         "average_writing": [
          601,
          631,
          596,
          693,
          670
         ],
         "borough": [
          "Manhattan",
          "Manhattan",
          "Manhattan",
          "Manhattan",
          "Staten Island"
         ],
         "building_code": [
          "M022",
          "M855",
          "M812",
          "M477",
          "R440"
         ],
         "index": [
          0,
          45,
          68,
          88,
          93
         ],
         "percent_tested": [
          null,
          86,
          92.6,
          97.4,
          99.7
         ],
         "school_name": [
          "New Explorations into Science, Technology and Math High School",
          "Eleanor Roosevelt High School",
          "High School for Mathematics, Science, and Engineering at City College",
          "Stuyvesant High School",
          "Staten Island Technical High School"
         ]
        },
        "schema": {
         "fields": [
          {
           "name": "index",
           "type": "integer"
          },
          {
           "name": "school_name",
           "type": "string"
          },
          {
           "name": "borough",
           "type": "string"
          },
          {
           "name": "building_code",
           "type": "string"
          },
          {
           "name": "average_math",
           "type": "integer"
          },
          {
           "name": "average_reading",
           "type": "integer"
          },
          {
           "name": "average_writing",
           "type": "integer"
          },
          {
           "name": "percent_tested",
           "type": "number"
          }
         ],
         "pandas_version": "1.4.0",
         "primaryKey": [
          "index"
         ]
        }
       },
       "total_rows": 5,
       "truncation_type": null
      },
      "text/html": [
       "<div>\n",
       "<style scoped>\n",
       "    .dataframe tbody tr th:only-of-type {\n",
       "        vertical-align: middle;\n",
       "    }\n",
       "\n",
       "    .dataframe tbody tr th {\n",
       "        vertical-align: top;\n",
       "    }\n",
       "\n",
       "    .dataframe thead th {\n",
       "        text-align: right;\n",
       "    }\n",
       "</style>\n",
       "<table border=\"1\" class=\"dataframe\">\n",
       "  <thead>\n",
       "    <tr style=\"text-align: right;\">\n",
       "      <th></th>\n",
       "      <th>school_name</th>\n",
       "      <th>borough</th>\n",
       "      <th>building_code</th>\n",
       "      <th>average_math</th>\n",
       "      <th>average_reading</th>\n",
       "      <th>average_writing</th>\n",
       "      <th>percent_tested</th>\n",
       "    </tr>\n",
       "  </thead>\n",
       "  <tbody>\n",
       "    <tr>\n",
       "      <th>0</th>\n",
       "      <td>New Explorations into Science, Technology and ...</td>\n",
       "      <td>Manhattan</td>\n",
       "      <td>M022</td>\n",
       "      <td>657</td>\n",
       "      <td>601</td>\n",
       "      <td>601</td>\n",
       "      <td>NaN</td>\n",
       "    </tr>\n",
       "    <tr>\n",
       "      <th>45</th>\n",
       "      <td>Eleanor Roosevelt High School</td>\n",
       "      <td>Manhattan</td>\n",
       "      <td>M855</td>\n",
       "      <td>641</td>\n",
       "      <td>617</td>\n",
       "      <td>631</td>\n",
       "      <td>86.0</td>\n",
       "    </tr>\n",
       "    <tr>\n",
       "      <th>68</th>\n",
       "      <td>High School for Mathematics, Science, and Engi...</td>\n",
       "      <td>Manhattan</td>\n",
       "      <td>M812</td>\n",
       "      <td>683</td>\n",
       "      <td>610</td>\n",
       "      <td>596</td>\n",
       "      <td>92.6</td>\n",
       "    </tr>\n",
       "    <tr>\n",
       "      <th>88</th>\n",
       "      <td>Stuyvesant High School</td>\n",
       "      <td>Manhattan</td>\n",
       "      <td>M477</td>\n",
       "      <td>754</td>\n",
       "      <td>697</td>\n",
       "      <td>693</td>\n",
       "      <td>97.4</td>\n",
       "    </tr>\n",
       "    <tr>\n",
       "      <th>93</th>\n",
       "      <td>Staten Island Technical High School</td>\n",
       "      <td>Staten Island</td>\n",
       "      <td>R440</td>\n",
       "      <td>711</td>\n",
       "      <td>660</td>\n",
       "      <td>670</td>\n",
       "      <td>99.7</td>\n",
       "    </tr>\n",
       "  </tbody>\n",
       "</table>\n",
       "</div>"
      ],
      "text/plain": [
       "                                          school_name  ... percent_tested\n",
       "0   New Explorations into Science, Technology and ...  ...            NaN\n",
       "45                      Eleanor Roosevelt High School  ...           86.0\n",
       "68  High School for Mathematics, Science, and Engi...  ...           92.6\n",
       "88                             Stuyvesant High School  ...           97.4\n",
       "93                Staten Island Technical High School  ...           99.7\n",
       "\n",
       "[5 rows x 7 columns]"
      ]
     },
     "execution_count": 93,
     "metadata": {},
     "output_type": "execute_result"
    }
   ],
   "source": [
    "df.head()"
   ]
  },
  {
   "cell_type": "code",
   "execution_count": 94,
   "id": "0ffbfb82-e7ee-437a-91ed-fb48b68c591f",
   "metadata": {
    "executionCancelledAt": null,
    "executionTime": 48,
    "lastExecutedAt": 1731075893763,
    "lastExecutedByKernel": "776ba79b-155b-4e5e-b478-25c90596089f",
    "lastScheduledRunId": null,
    "lastSuccessfullyExecutedCode": "df = df.sort_values(by='average_math', ascending = False)",
    "outputsMetadata": {
     "0": {
      "height": 362,
      "type": "dataFrame"
     }
    }
   },
   "outputs": [],
   "source": [
    "df = df.sort_values(by='average_math', ascending = False)"
   ]
  },
  {
   "cell_type": "code",
   "execution_count": 95,
   "id": "3454aec1-c218-40fb-85cf-0925a22d1d2e",
   "metadata": {
    "executionCancelledAt": null,
    "executionTime": 52,
    "lastExecutedAt": 1731075893815,
    "lastExecutedByKernel": "776ba79b-155b-4e5e-b478-25c90596089f",
    "lastScheduledRunId": null,
    "lastSuccessfullyExecutedCode": "best_math_schools = df[['school_name', 'average_math']]"
   },
   "outputs": [],
   "source": [
    "best_math_schools = df[['school_name', 'average_math']]"
   ]
  },
  {
   "cell_type": "code",
   "execution_count": 96,
   "id": "b1a1da6d-f46f-4426-b7c0-1a3f6b4c285e",
   "metadata": {
    "executionCancelledAt": null,
    "executionTime": 52,
    "lastExecutedAt": 1731075893867,
    "lastExecutedByKernel": "776ba79b-155b-4e5e-b478-25c90596089f",
    "lastScheduledRunId": null,
    "lastSuccessfullyExecutedCode": "best_math_schools",
    "outputsMetadata": {
     "0": {
      "height": 362,
      "type": "dataFrame"
     }
    }
   },
   "outputs": [
    {
     "data": {
      "application/com.datacamp.data-table.v2+json": {
       "table": {
        "data": {
         "average_math": [
          754,
          714,
          711,
          701,
          683,
          682,
          680,
          669,
          657,
          641
         ],
         "index": [
          88,
          170,
          93,
          365,
          68,
          280,
          333,
          174,
          0,
          45
         ],
         "school_name": [
          "Stuyvesant High School",
          "Bronx High School of Science",
          "Staten Island Technical High School",
          "Queens High School for the Sciences at York College",
          "High School for Mathematics, Science, and Engineering at City College",
          "Brooklyn Technical High School",
          "Townsend Harris High School",
          "High School of American Studies at Lehman College",
          "New Explorations into Science, Technology and Math High School",
          "Eleanor Roosevelt High School"
         ]
        },
        "schema": {
         "fields": [
          {
           "name": "index",
           "type": "integer"
          },
          {
           "name": "school_name",
           "type": "string"
          },
          {
           "name": "average_math",
           "type": "integer"
          }
         ],
         "pandas_version": "1.4.0",
         "primaryKey": [
          "index"
         ]
        }
       },
       "total_rows": 10,
       "truncation_type": null
      },
      "text/html": [
       "<div>\n",
       "<style scoped>\n",
       "    .dataframe tbody tr th:only-of-type {\n",
       "        vertical-align: middle;\n",
       "    }\n",
       "\n",
       "    .dataframe tbody tr th {\n",
       "        vertical-align: top;\n",
       "    }\n",
       "\n",
       "    .dataframe thead th {\n",
       "        text-align: right;\n",
       "    }\n",
       "</style>\n",
       "<table border=\"1\" class=\"dataframe\">\n",
       "  <thead>\n",
       "    <tr style=\"text-align: right;\">\n",
       "      <th></th>\n",
       "      <th>school_name</th>\n",
       "      <th>average_math</th>\n",
       "    </tr>\n",
       "  </thead>\n",
       "  <tbody>\n",
       "    <tr>\n",
       "      <th>88</th>\n",
       "      <td>Stuyvesant High School</td>\n",
       "      <td>754</td>\n",
       "    </tr>\n",
       "    <tr>\n",
       "      <th>170</th>\n",
       "      <td>Bronx High School of Science</td>\n",
       "      <td>714</td>\n",
       "    </tr>\n",
       "    <tr>\n",
       "      <th>93</th>\n",
       "      <td>Staten Island Technical High School</td>\n",
       "      <td>711</td>\n",
       "    </tr>\n",
       "    <tr>\n",
       "      <th>365</th>\n",
       "      <td>Queens High School for the Sciences at York Co...</td>\n",
       "      <td>701</td>\n",
       "    </tr>\n",
       "    <tr>\n",
       "      <th>68</th>\n",
       "      <td>High School for Mathematics, Science, and Engi...</td>\n",
       "      <td>683</td>\n",
       "    </tr>\n",
       "    <tr>\n",
       "      <th>280</th>\n",
       "      <td>Brooklyn Technical High School</td>\n",
       "      <td>682</td>\n",
       "    </tr>\n",
       "    <tr>\n",
       "      <th>333</th>\n",
       "      <td>Townsend Harris High School</td>\n",
       "      <td>680</td>\n",
       "    </tr>\n",
       "    <tr>\n",
       "      <th>174</th>\n",
       "      <td>High School of American Studies at Lehman College</td>\n",
       "      <td>669</td>\n",
       "    </tr>\n",
       "    <tr>\n",
       "      <th>0</th>\n",
       "      <td>New Explorations into Science, Technology and ...</td>\n",
       "      <td>657</td>\n",
       "    </tr>\n",
       "    <tr>\n",
       "      <th>45</th>\n",
       "      <td>Eleanor Roosevelt High School</td>\n",
       "      <td>641</td>\n",
       "    </tr>\n",
       "  </tbody>\n",
       "</table>\n",
       "</div>"
      ],
      "text/plain": [
       "                                           school_name  average_math\n",
       "88                              Stuyvesant High School           754\n",
       "170                       Bronx High School of Science           714\n",
       "93                 Staten Island Technical High School           711\n",
       "365  Queens High School for the Sciences at York Co...           701\n",
       "68   High School for Mathematics, Science, and Engi...           683\n",
       "280                     Brooklyn Technical High School           682\n",
       "333                        Townsend Harris High School           680\n",
       "174  High School of American Studies at Lehman College           669\n",
       "0    New Explorations into Science, Technology and ...           657\n",
       "45                       Eleanor Roosevelt High School           641"
      ]
     },
     "execution_count": 96,
     "metadata": {},
     "output_type": "execute_result"
    }
   ],
   "source": [
    "best_math_schools"
   ]
  },
  {
   "cell_type": "markdown",
   "id": "5e474321-84c9-45d9-9fbe-0dae0176080c",
   "metadata": {},
   "source": [
    "Top ten schools"
   ]
  },
  {
   "cell_type": "code",
   "execution_count": 97,
   "id": "983f489b-2cd8-419e-bc77-a746bbcb0599",
   "metadata": {
    "executionCancelledAt": null,
    "executionTime": 52,
    "lastExecutedAt": 1731075893919,
    "lastExecutedByKernel": "776ba79b-155b-4e5e-b478-25c90596089f",
    "lastScheduledRunId": null,
    "lastSuccessfullyExecutedCode": "schools['total_SAT'] = schools['average_math'] + schools['average_reading']+ schools['average_writing']"
   },
   "outputs": [],
   "source": [
    "schools['total_SAT'] = schools['average_math'] + schools['average_reading']+ schools['average_writing']"
   ]
  },
  {
   "cell_type": "code",
   "execution_count": 98,
   "id": "dc146401-2e22-4bff-8fb3-6196aa8ac504",
   "metadata": {
    "executionCancelledAt": null,
    "executionTime": 56,
    "lastExecutedAt": 1731075893975,
    "lastExecutedByKernel": "776ba79b-155b-4e5e-b478-25c90596089f",
    "lastScheduledRunId": null,
    "lastSuccessfullyExecutedCode": "schools.head(5)",
    "outputsMetadata": {
     "0": {
      "height": 222,
      "type": "dataFrame"
     }
    }
   },
   "outputs": [
    {
     "data": {
      "application/com.datacamp.data-table.v2+json": {
       "table": {
        "data": {
         "average_math": [
          657,
          395,
          418,
          613,
          410
         ],
         "average_reading": [
          601,
          411,
          428,
          453,
          406
         ],
         "average_writing": [
          601,
          387,
          415,
          463,
          381
         ],
         "borough": [
          "Manhattan",
          "Manhattan",
          "Manhattan",
          "Manhattan",
          "Manhattan"
         ],
         "building_code": [
          "M022",
          "M445",
          "M445",
          "M445",
          "M056"
         ],
         "index": [
          0,
          1,
          2,
          3,
          4
         ],
         "percent_tested": [
          null,
          78.9,
          65.1,
          95.9,
          59.7
         ],
         "school_name": [
          "New Explorations into Science, Technology and Math High School",
          "Essex Street Academy",
          "Lower Manhattan Arts Academy",
          "High School for Dual Language and Asian Studies",
          "Henry Street School for International Studies"
         ],
         "total_SAT": [
          1859,
          1193,
          1261,
          1529,
          1197
         ]
        },
        "schema": {
         "fields": [
          {
           "name": "index",
           "type": "integer"
          },
          {
           "name": "school_name",
           "type": "string"
          },
          {
           "name": "borough",
           "type": "string"
          },
          {
           "name": "building_code",
           "type": "string"
          },
          {
           "name": "average_math",
           "type": "integer"
          },
          {
           "name": "average_reading",
           "type": "integer"
          },
          {
           "name": "average_writing",
           "type": "integer"
          },
          {
           "name": "percent_tested",
           "type": "number"
          },
          {
           "name": "total_SAT",
           "type": "integer"
          }
         ],
         "pandas_version": "1.4.0",
         "primaryKey": [
          "index"
         ]
        }
       },
       "total_rows": 5,
       "truncation_type": null
      },
      "text/html": [
       "<div>\n",
       "<style scoped>\n",
       "    .dataframe tbody tr th:only-of-type {\n",
       "        vertical-align: middle;\n",
       "    }\n",
       "\n",
       "    .dataframe tbody tr th {\n",
       "        vertical-align: top;\n",
       "    }\n",
       "\n",
       "    .dataframe thead th {\n",
       "        text-align: right;\n",
       "    }\n",
       "</style>\n",
       "<table border=\"1\" class=\"dataframe\">\n",
       "  <thead>\n",
       "    <tr style=\"text-align: right;\">\n",
       "      <th></th>\n",
       "      <th>school_name</th>\n",
       "      <th>borough</th>\n",
       "      <th>building_code</th>\n",
       "      <th>average_math</th>\n",
       "      <th>average_reading</th>\n",
       "      <th>average_writing</th>\n",
       "      <th>percent_tested</th>\n",
       "      <th>total_SAT</th>\n",
       "    </tr>\n",
       "  </thead>\n",
       "  <tbody>\n",
       "    <tr>\n",
       "      <th>0</th>\n",
       "      <td>New Explorations into Science, Technology and ...</td>\n",
       "      <td>Manhattan</td>\n",
       "      <td>M022</td>\n",
       "      <td>657</td>\n",
       "      <td>601</td>\n",
       "      <td>601</td>\n",
       "      <td>NaN</td>\n",
       "      <td>1859</td>\n",
       "    </tr>\n",
       "    <tr>\n",
       "      <th>1</th>\n",
       "      <td>Essex Street Academy</td>\n",
       "      <td>Manhattan</td>\n",
       "      <td>M445</td>\n",
       "      <td>395</td>\n",
       "      <td>411</td>\n",
       "      <td>387</td>\n",
       "      <td>78.9</td>\n",
       "      <td>1193</td>\n",
       "    </tr>\n",
       "    <tr>\n",
       "      <th>2</th>\n",
       "      <td>Lower Manhattan Arts Academy</td>\n",
       "      <td>Manhattan</td>\n",
       "      <td>M445</td>\n",
       "      <td>418</td>\n",
       "      <td>428</td>\n",
       "      <td>415</td>\n",
       "      <td>65.1</td>\n",
       "      <td>1261</td>\n",
       "    </tr>\n",
       "    <tr>\n",
       "      <th>3</th>\n",
       "      <td>High School for Dual Language and Asian Studies</td>\n",
       "      <td>Manhattan</td>\n",
       "      <td>M445</td>\n",
       "      <td>613</td>\n",
       "      <td>453</td>\n",
       "      <td>463</td>\n",
       "      <td>95.9</td>\n",
       "      <td>1529</td>\n",
       "    </tr>\n",
       "    <tr>\n",
       "      <th>4</th>\n",
       "      <td>Henry Street School for International Studies</td>\n",
       "      <td>Manhattan</td>\n",
       "      <td>M056</td>\n",
       "      <td>410</td>\n",
       "      <td>406</td>\n",
       "      <td>381</td>\n",
       "      <td>59.7</td>\n",
       "      <td>1197</td>\n",
       "    </tr>\n",
       "  </tbody>\n",
       "</table>\n",
       "</div>"
      ],
      "text/plain": [
       "                                         school_name  ... total_SAT\n",
       "0  New Explorations into Science, Technology and ...  ...      1859\n",
       "1                               Essex Street Academy  ...      1193\n",
       "2                       Lower Manhattan Arts Academy  ...      1261\n",
       "3    High School for Dual Language and Asian Studies  ...      1529\n",
       "4      Henry Street School for International Studies  ...      1197\n",
       "\n",
       "[5 rows x 8 columns]"
      ]
     },
     "execution_count": 98,
     "metadata": {},
     "output_type": "execute_result"
    }
   ],
   "source": [
    "schools.head(5)"
   ]
  },
  {
   "cell_type": "code",
   "execution_count": 99,
   "id": "57dc6cd7-ea95-46b8-ab7f-22e5caee2377",
   "metadata": {
    "executionCancelledAt": null,
    "executionTime": 48,
    "lastExecutedAt": 1731075894023,
    "lastExecutedByKernel": "776ba79b-155b-4e5e-b478-25c90596089f",
    "lastScheduledRunId": null,
    "lastSuccessfullyExecutedCode": "df_x = schools.sort_values(by='total_SAT', ascending = False)"
   },
   "outputs": [],
   "source": [
    "df_x = schools.sort_values(by='total_SAT', ascending = False)"
   ]
  },
  {
   "cell_type": "code",
   "execution_count": 100,
   "id": "8e1f0750-1eb4-4c4b-977c-33df94751434",
   "metadata": {
    "executionCancelledAt": null,
    "executionTime": 52,
    "lastExecutedAt": 1731075894075,
    "lastExecutedByKernel": "776ba79b-155b-4e5e-b478-25c90596089f",
    "lastScheduledRunId": null,
    "lastSuccessfullyExecutedCode": "top_10_schools = df_x[['school_name', 'total_SAT']].head(10)"
   },
   "outputs": [],
   "source": [
    "top_10_schools = df_x[['school_name', 'total_SAT']].head(10)"
   ]
  },
  {
   "cell_type": "code",
   "execution_count": 101,
   "id": "9974affb-cf22-469d-83ff-5b97bed11b0d",
   "metadata": {
    "executionCancelledAt": null,
    "executionTime": 56,
    "lastExecutedAt": 1731075894131,
    "lastExecutedByKernel": "776ba79b-155b-4e5e-b478-25c90596089f",
    "lastScheduledRunId": null,
    "lastSuccessfullyExecutedCode": "top_10_schools",
    "outputsMetadata": {
     "0": {
      "height": 362,
      "type": "dataFrame"
     }
    }
   },
   "outputs": [
    {
     "data": {
      "application/com.datacamp.data-table.v2+json": {
       "table": {
        "data": {
         "index": [
          88,
          170,
          93,
          174,
          333,
          365,
          5,
          280,
          45,
          68
         ],
         "school_name": [
          "Stuyvesant High School",
          "Bronx High School of Science",
          "Staten Island Technical High School",
          "High School of American Studies at Lehman College",
          "Townsend Harris High School",
          "Queens High School for the Sciences at York College",
          "Bard High School Early College",
          "Brooklyn Technical High School",
          "Eleanor Roosevelt High School",
          "High School for Mathematics, Science, and Engineering at City College"
         ],
         "total_SAT": [
          2144,
          2041,
          2041,
          2013,
          1981,
          1947,
          1914,
          1896,
          1889,
          1889
         ]
        },
        "schema": {
         "fields": [
          {
           "name": "index",
           "type": "integer"
          },
          {
           "name": "school_name",
           "type": "string"
          },
          {
           "name": "total_SAT",
           "type": "integer"
          }
         ],
         "pandas_version": "1.4.0",
         "primaryKey": [
          "index"
         ]
        }
       },
       "total_rows": 10,
       "truncation_type": null
      },
      "text/html": [
       "<div>\n",
       "<style scoped>\n",
       "    .dataframe tbody tr th:only-of-type {\n",
       "        vertical-align: middle;\n",
       "    }\n",
       "\n",
       "    .dataframe tbody tr th {\n",
       "        vertical-align: top;\n",
       "    }\n",
       "\n",
       "    .dataframe thead th {\n",
       "        text-align: right;\n",
       "    }\n",
       "</style>\n",
       "<table border=\"1\" class=\"dataframe\">\n",
       "  <thead>\n",
       "    <tr style=\"text-align: right;\">\n",
       "      <th></th>\n",
       "      <th>school_name</th>\n",
       "      <th>total_SAT</th>\n",
       "    </tr>\n",
       "  </thead>\n",
       "  <tbody>\n",
       "    <tr>\n",
       "      <th>88</th>\n",
       "      <td>Stuyvesant High School</td>\n",
       "      <td>2144</td>\n",
       "    </tr>\n",
       "    <tr>\n",
       "      <th>170</th>\n",
       "      <td>Bronx High School of Science</td>\n",
       "      <td>2041</td>\n",
       "    </tr>\n",
       "    <tr>\n",
       "      <th>93</th>\n",
       "      <td>Staten Island Technical High School</td>\n",
       "      <td>2041</td>\n",
       "    </tr>\n",
       "    <tr>\n",
       "      <th>174</th>\n",
       "      <td>High School of American Studies at Lehman College</td>\n",
       "      <td>2013</td>\n",
       "    </tr>\n",
       "    <tr>\n",
       "      <th>333</th>\n",
       "      <td>Townsend Harris High School</td>\n",
       "      <td>1981</td>\n",
       "    </tr>\n",
       "    <tr>\n",
       "      <th>365</th>\n",
       "      <td>Queens High School for the Sciences at York Co...</td>\n",
       "      <td>1947</td>\n",
       "    </tr>\n",
       "    <tr>\n",
       "      <th>5</th>\n",
       "      <td>Bard High School Early College</td>\n",
       "      <td>1914</td>\n",
       "    </tr>\n",
       "    <tr>\n",
       "      <th>280</th>\n",
       "      <td>Brooklyn Technical High School</td>\n",
       "      <td>1896</td>\n",
       "    </tr>\n",
       "    <tr>\n",
       "      <th>45</th>\n",
       "      <td>Eleanor Roosevelt High School</td>\n",
       "      <td>1889</td>\n",
       "    </tr>\n",
       "    <tr>\n",
       "      <th>68</th>\n",
       "      <td>High School for Mathematics, Science, and Engi...</td>\n",
       "      <td>1889</td>\n",
       "    </tr>\n",
       "  </tbody>\n",
       "</table>\n",
       "</div>"
      ],
      "text/plain": [
       "                                           school_name  total_SAT\n",
       "88                              Stuyvesant High School       2144\n",
       "170                       Bronx High School of Science       2041\n",
       "93                 Staten Island Technical High School       2041\n",
       "174  High School of American Studies at Lehman College       2013\n",
       "333                        Townsend Harris High School       1981\n",
       "365  Queens High School for the Sciences at York Co...       1947\n",
       "5                       Bard High School Early College       1914\n",
       "280                     Brooklyn Technical High School       1896\n",
       "45                       Eleanor Roosevelt High School       1889\n",
       "68   High School for Mathematics, Science, and Engi...       1889"
      ]
     },
     "execution_count": 101,
     "metadata": {},
     "output_type": "execute_result"
    }
   ],
   "source": [
    "top_10_schools"
   ]
  },
  {
   "cell_type": "markdown",
   "id": "0076df0d-c5bb-4163-8473-e6ba841446d9",
   "metadata": {},
   "source": [
    "Borough comparison"
   ]
  },
  {
   "cell_type": "code",
   "execution_count": 102,
   "id": "1d01ae72-853d-42b5-968a-ddc433740630",
   "metadata": {
    "executionCancelledAt": null,
    "executionTime": 48,
    "lastExecutedAt": 1731075894179,
    "lastExecutedByKernel": "776ba79b-155b-4e5e-b478-25c90596089f",
    "lastScheduledRunId": null,
    "lastSuccessfullyExecutedCode": "import numpy as np"
   },
   "outputs": [],
   "source": [
    "import numpy as np"
   ]
  },
  {
   "cell_type": "code",
   "execution_count": 103,
   "id": "05ed9d83-3e57-4518-9d16-b9c0e35dbb65",
   "metadata": {
    "chartConfig": {
     "bar": {
      "hasRoundedCorners": true,
      "stacked": false
     },
     "type": "bar",
     "version": "v1"
    },
    "executionCancelledAt": null,
    "executionTime": 56,
    "lastExecutedAt": 1731075894235,
    "lastExecutedByKernel": "776ba79b-155b-4e5e-b478-25c90596089f",
    "lastScheduledRunId": null,
    "lastSuccessfullyExecutedCode": "df_y = schools.groupby('borough')['total_SAT'].agg([np.mean, np.std])",
    "visualizeDataframe": false
   },
   "outputs": [],
   "source": [
    "df_y = schools.groupby('borough')['total_SAT'].agg([np.mean, np.std])"
   ]
  },
  {
   "cell_type": "code",
   "execution_count": 104,
   "id": "150948b9-7394-4948-9870-72e6b0b608f1",
   "metadata": {
    "executionCancelledAt": null,
    "executionTime": 51,
    "lastExecutedAt": 1731075894287,
    "lastExecutedByKernel": "776ba79b-155b-4e5e-b478-25c90596089f",
    "lastScheduledRunId": null,
    "lastSuccessfullyExecutedCode": "df_y = df_y.reset_index()",
    "outputsMetadata": {
     "0": {
      "height": 222,
      "type": "dataFrame"
     }
    }
   },
   "outputs": [],
   "source": [
    "df_y = df_y.reset_index()"
   ]
  },
  {
   "cell_type": "code",
   "execution_count": 105,
   "id": "280f5c7b-bcbc-4970-84ab-08c1a9b33b07",
   "metadata": {
    "executionCancelledAt": null,
    "executionTime": 52,
    "lastExecutedAt": 1731075894339,
    "lastExecutedByKernel": "776ba79b-155b-4e5e-b478-25c90596089f",
    "lastScheduledRunId": null,
    "lastSuccessfullyExecutedCode": "df_y1 = df_y.sort_values(by='std', ascending = False).head(1)"
   },
   "outputs": [],
   "source": [
    "df_y1 = df_y.sort_values(by='std', ascending = False).head(1)"
   ]
  },
  {
   "cell_type": "code",
   "execution_count": 106,
   "id": "92613a0c-9499-47ab-8b9e-b6d3098a2684",
   "metadata": {
    "executionCancelledAt": null,
    "executionTime": 56,
    "lastExecutedAt": 1731075894395,
    "lastExecutedByKernel": "776ba79b-155b-4e5e-b478-25c90596089f",
    "lastScheduledRunId": null,
    "lastSuccessfullyExecutedCode": "df_y1",
    "outputsMetadata": {
     "0": {
      "height": 110,
      "type": "dataFrame"
     }
    }
   },
   "outputs": [
    {
     "data": {
      "application/com.datacamp.data-table.v2+json": {
       "table": {
        "data": {
         "borough": [
          "Manhattan"
         ],
         "index": [
          2
         ],
         "mean": [
          1340.1348314607
         ],
         "std": [
          230.2941395364
         ]
        },
        "schema": {
         "fields": [
          {
           "name": "index",
           "type": "integer"
          },
          {
           "name": "borough",
           "type": "string"
          },
          {
           "name": "mean",
           "type": "number"
          },
          {
           "name": "std",
           "type": "number"
          }
         ],
         "pandas_version": "1.4.0",
         "primaryKey": [
          "index"
         ]
        }
       },
       "total_rows": 1,
       "truncation_type": null
      },
      "text/html": [
       "<div>\n",
       "<style scoped>\n",
       "    .dataframe tbody tr th:only-of-type {\n",
       "        vertical-align: middle;\n",
       "    }\n",
       "\n",
       "    .dataframe tbody tr th {\n",
       "        vertical-align: top;\n",
       "    }\n",
       "\n",
       "    .dataframe thead th {\n",
       "        text-align: right;\n",
       "    }\n",
       "</style>\n",
       "<table border=\"1\" class=\"dataframe\">\n",
       "  <thead>\n",
       "    <tr style=\"text-align: right;\">\n",
       "      <th></th>\n",
       "      <th>borough</th>\n",
       "      <th>mean</th>\n",
       "      <th>std</th>\n",
       "    </tr>\n",
       "  </thead>\n",
       "  <tbody>\n",
       "    <tr>\n",
       "      <th>2</th>\n",
       "      <td>Manhattan</td>\n",
       "      <td>1340.134831</td>\n",
       "      <td>230.29414</td>\n",
       "    </tr>\n",
       "  </tbody>\n",
       "</table>\n",
       "</div>"
      ],
      "text/plain": [
       "     borough         mean        std\n",
       "2  Manhattan  1340.134831  230.29414"
      ]
     },
     "execution_count": 106,
     "metadata": {},
     "output_type": "execute_result"
    }
   ],
   "source": [
    "df_y1"
   ]
  },
  {
   "cell_type": "code",
   "execution_count": 107,
   "id": "6e253857-a0cb-4242-9773-5b68a4bbde5e",
   "metadata": {
    "executionCancelledAt": null,
    "executionTime": 52,
    "lastExecutedAt": 1731075894447,
    "lastExecutedByKernel": "776ba79b-155b-4e5e-b478-25c90596089f",
    "lastScheduledRunId": null,
    "lastSuccessfullyExecutedCode": "largest_std_dev = pd.DataFrame(columns=['borough','num_schools','average_SAT','std_SAT'])"
   },
   "outputs": [],
   "source": [
    "largest_std_dev = pd.DataFrame(columns=['borough','num_schools','average_SAT','std_SAT'])"
   ]
  },
  {
   "cell_type": "code",
   "execution_count": 108,
   "id": "ad521bd7-ff0e-4b1b-86e5-bae27454e359",
   "metadata": {
    "executionCancelledAt": null,
    "executionTime": 48,
    "lastExecutedAt": 1731075894495,
    "lastExecutedByKernel": "776ba79b-155b-4e5e-b478-25c90596089f",
    "lastScheduledRunId": null,
    "lastSuccessfullyExecutedCode": "largest_std_dev.columns"
   },
   "outputs": [
    {
     "data": {
      "text/plain": [
       "Index(['borough', 'num_schools', 'average_SAT', 'std_SAT'], dtype='object')"
      ]
     },
     "execution_count": 108,
     "metadata": {},
     "output_type": "execute_result"
    }
   ],
   "source": [
    "largest_std_dev.columns"
   ]
  },
  {
   "cell_type": "code",
   "execution_count": 109,
   "id": "aa5e1f0f-6815-4d2d-b7c7-61af3f3ef851",
   "metadata": {
    "executionCancelledAt": null,
    "executionTime": 48,
    "lastExecutedAt": 1731075894543,
    "lastExecutedByKernel": "776ba79b-155b-4e5e-b478-25c90596089f",
    "lastScheduledRunId": null,
    "lastSuccessfullyExecutedCode": "largest_std_dev = df_y1"
   },
   "outputs": [],
   "source": [
    "largest_std_dev = df_y1"
   ]
  },
  {
   "cell_type": "code",
   "execution_count": 110,
   "id": "49af150e-3498-4ff5-a6fb-4136a856c8f2",
   "metadata": {
    "executionCancelledAt": null,
    "executionTime": 59,
    "lastExecutedAt": 1731075894602,
    "lastExecutedByKernel": "776ba79b-155b-4e5e-b478-25c90596089f",
    "lastScheduledRunId": null,
    "lastSuccessfullyExecutedCode": "largest_std_dev",
    "outputsMetadata": {
     "0": {
      "height": 110,
      "type": "dataFrame"
     }
    }
   },
   "outputs": [
    {
     "data": {
      "application/com.datacamp.data-table.v2+json": {
       "table": {
        "data": {
         "borough": [
          "Manhattan"
         ],
         "index": [
          2
         ],
         "mean": [
          1340.1348314607
         ],
         "std": [
          230.2941395364
         ]
        },
        "schema": {
         "fields": [
          {
           "name": "index",
           "type": "integer"
          },
          {
           "name": "borough",
           "type": "string"
          },
          {
           "name": "mean",
           "type": "number"
          },
          {
           "name": "std",
           "type": "number"
          }
         ],
         "pandas_version": "1.4.0",
         "primaryKey": [
          "index"
         ]
        }
       },
       "total_rows": 1,
       "truncation_type": null
      },
      "text/html": [
       "<div>\n",
       "<style scoped>\n",
       "    .dataframe tbody tr th:only-of-type {\n",
       "        vertical-align: middle;\n",
       "    }\n",
       "\n",
       "    .dataframe tbody tr th {\n",
       "        vertical-align: top;\n",
       "    }\n",
       "\n",
       "    .dataframe thead th {\n",
       "        text-align: right;\n",
       "    }\n",
       "</style>\n",
       "<table border=\"1\" class=\"dataframe\">\n",
       "  <thead>\n",
       "    <tr style=\"text-align: right;\">\n",
       "      <th></th>\n",
       "      <th>borough</th>\n",
       "      <th>mean</th>\n",
       "      <th>std</th>\n",
       "    </tr>\n",
       "  </thead>\n",
       "  <tbody>\n",
       "    <tr>\n",
       "      <th>2</th>\n",
       "      <td>Manhattan</td>\n",
       "      <td>1340.134831</td>\n",
       "      <td>230.29414</td>\n",
       "    </tr>\n",
       "  </tbody>\n",
       "</table>\n",
       "</div>"
      ],
      "text/plain": [
       "     borough         mean        std\n",
       "2  Manhattan  1340.134831  230.29414"
      ]
     },
     "execution_count": 110,
     "metadata": {},
     "output_type": "execute_result"
    }
   ],
   "source": [
    "largest_std_dev"
   ]
  },
  {
   "cell_type": "code",
   "execution_count": 111,
   "id": "74ad061c-51c5-4bcc-bc40-dc76cad65808",
   "metadata": {
    "executionCancelledAt": null,
    "executionTime": 53,
    "lastExecutedAt": 1731075894655,
    "lastExecutedByKernel": "776ba79b-155b-4e5e-b478-25c90596089f",
    "lastScheduledRunId": null,
    "lastSuccessfullyExecutedCode": "largest_std_dev['num_schools'] = len(schools[schools['borough']=='Manhattan'])"
   },
   "outputs": [],
   "source": [
    "largest_std_dev['num_schools'] = len(schools[schools['borough']=='Manhattan'])"
   ]
  },
  {
   "cell_type": "code",
   "execution_count": 112,
   "id": "ee21db12-15f0-4427-bf45-9eaaa20555b0",
   "metadata": {
    "executionCancelledAt": null,
    "executionTime": 56,
    "lastExecutedAt": 1731075894711,
    "lastExecutedByKernel": "776ba79b-155b-4e5e-b478-25c90596089f",
    "lastScheduledRunId": null,
    "lastSuccessfullyExecutedCode": "largest_std_dev",
    "outputsMetadata": {
     "0": {
      "height": 110,
      "type": "dataFrame"
     }
    }
   },
   "outputs": [
    {
     "data": {
      "application/com.datacamp.data-table.v2+json": {
       "table": {
        "data": {
         "borough": [
          "Manhattan"
         ],
         "index": [
          2
         ],
         "mean": [
          1340.1348314607
         ],
         "num_schools": [
          89
         ],
         "std": [
          230.2941395364
         ]
        },
        "schema": {
         "fields": [
          {
           "name": "index",
           "type": "integer"
          },
          {
           "name": "borough",
           "type": "string"
          },
          {
           "name": "mean",
           "type": "number"
          },
          {
           "name": "std",
           "type": "number"
          },
          {
           "name": "num_schools",
           "type": "integer"
          }
         ],
         "pandas_version": "1.4.0",
         "primaryKey": [
          "index"
         ]
        }
       },
       "total_rows": 1,
       "truncation_type": null
      },
      "text/html": [
       "<div>\n",
       "<style scoped>\n",
       "    .dataframe tbody tr th:only-of-type {\n",
       "        vertical-align: middle;\n",
       "    }\n",
       "\n",
       "    .dataframe tbody tr th {\n",
       "        vertical-align: top;\n",
       "    }\n",
       "\n",
       "    .dataframe thead th {\n",
       "        text-align: right;\n",
       "    }\n",
       "</style>\n",
       "<table border=\"1\" class=\"dataframe\">\n",
       "  <thead>\n",
       "    <tr style=\"text-align: right;\">\n",
       "      <th></th>\n",
       "      <th>borough</th>\n",
       "      <th>mean</th>\n",
       "      <th>std</th>\n",
       "      <th>num_schools</th>\n",
       "    </tr>\n",
       "  </thead>\n",
       "  <tbody>\n",
       "    <tr>\n",
       "      <th>2</th>\n",
       "      <td>Manhattan</td>\n",
       "      <td>1340.134831</td>\n",
       "      <td>230.29414</td>\n",
       "      <td>89</td>\n",
       "    </tr>\n",
       "  </tbody>\n",
       "</table>\n",
       "</div>"
      ],
      "text/plain": [
       "     borough         mean        std  num_schools\n",
       "2  Manhattan  1340.134831  230.29414           89"
      ]
     },
     "execution_count": 112,
     "metadata": {},
     "output_type": "execute_result"
    }
   ],
   "source": [
    "largest_std_dev"
   ]
  },
  {
   "cell_type": "code",
   "execution_count": 113,
   "id": "1a9dc5a8-1485-49b5-8232-022cf89d1dda",
   "metadata": {
    "executionCancelledAt": null,
    "executionTime": 52,
    "lastExecutedAt": 1731075894763,
    "lastExecutedByKernel": "776ba79b-155b-4e5e-b478-25c90596089f",
    "lastScheduledRunId": null,
    "lastSuccessfullyExecutedCode": "largest_std_dev.rename(columns = {'mean':'average_SAT', 'std':'std_SAT'}, inplace = True)"
   },
   "outputs": [],
   "source": [
    "largest_std_dev.rename(columns = {'mean':'average_SAT', 'std':'std_SAT'}, inplace = True)"
   ]
  },
  {
   "cell_type": "code",
   "execution_count": 114,
   "id": "07432f81-3e32-42e5-bdd8-f72a78517410",
   "metadata": {
    "executionCancelledAt": null,
    "executionTime": 52,
    "lastExecutedAt": 1731075894815,
    "lastExecutedByKernel": "776ba79b-155b-4e5e-b478-25c90596089f",
    "lastScheduledRunId": null,
    "lastSuccessfullyExecutedCode": "largest_std_dev = largest_std_dev.round({'average_SAT': 2, 'std_SAT': 2})",
    "outputsMetadata": {
     "0": {
      "height": 110,
      "type": "dataFrame"
     }
    }
   },
   "outputs": [],
   "source": [
    "largest_std_dev = largest_std_dev.round({'average_SAT': 2, 'std_SAT': 2})"
   ]
  },
  {
   "cell_type": "code",
   "execution_count": 115,
   "id": "ae233874-c677-4fd9-9f5b-e05b1b778915",
   "metadata": {
    "executionCancelledAt": null,
    "executionTime": 64,
    "lastExecutedAt": 1731075894880,
    "lastExecutedByKernel": "776ba79b-155b-4e5e-b478-25c90596089f",
    "lastScheduledRunId": null,
    "lastSuccessfullyExecutedCode": "largest_std_dev"
   },
   "outputs": [
    {
     "data": {
      "application/com.datacamp.data-table.v2+json": {
       "table": {
        "data": {
         "average_SAT": [
          1340.13
         ],
         "borough": [
          "Manhattan"
         ],
         "index": [
          2
         ],
         "num_schools": [
          89
         ],
         "std_SAT": [
          230.29
         ]
        },
        "schema": {
         "fields": [
          {
           "name": "index",
           "type": "integer"
          },
          {
           "name": "borough",
           "type": "string"
          },
          {
           "name": "average_SAT",
           "type": "number"
          },
          {
           "name": "std_SAT",
           "type": "number"
          },
          {
           "name": "num_schools",
           "type": "integer"
          }
         ],
         "pandas_version": "1.4.0",
         "primaryKey": [
          "index"
         ]
        }
       },
       "total_rows": 1,
       "truncation_type": null
      },
      "text/html": [
       "<div>\n",
       "<style scoped>\n",
       "    .dataframe tbody tr th:only-of-type {\n",
       "        vertical-align: middle;\n",
       "    }\n",
       "\n",
       "    .dataframe tbody tr th {\n",
       "        vertical-align: top;\n",
       "    }\n",
       "\n",
       "    .dataframe thead th {\n",
       "        text-align: right;\n",
       "    }\n",
       "</style>\n",
       "<table border=\"1\" class=\"dataframe\">\n",
       "  <thead>\n",
       "    <tr style=\"text-align: right;\">\n",
       "      <th></th>\n",
       "      <th>borough</th>\n",
       "      <th>average_SAT</th>\n",
       "      <th>std_SAT</th>\n",
       "      <th>num_schools</th>\n",
       "    </tr>\n",
       "  </thead>\n",
       "  <tbody>\n",
       "    <tr>\n",
       "      <th>2</th>\n",
       "      <td>Manhattan</td>\n",
       "      <td>1340.13</td>\n",
       "      <td>230.29</td>\n",
       "      <td>89</td>\n",
       "    </tr>\n",
       "  </tbody>\n",
       "</table>\n",
       "</div>"
      ],
      "text/plain": [
       "     borough  average_SAT  std_SAT  num_schools\n",
       "2  Manhattan      1340.13   230.29           89"
      ]
     },
     "execution_count": 115,
     "metadata": {},
     "output_type": "execute_result"
    }
   ],
   "source": [
    "largest_std_dev"
   ]
  },
  {
   "cell_type": "code",
   "execution_count": 115,
   "id": "882adb0d-353f-4675-9daa-a586e70c5533",
   "metadata": {
    "executionCancelledAt": null,
    "executionTime": 48,
    "lastExecutedAt": 1731075894928,
    "lastExecutedByKernel": "776ba79b-155b-4e5e-b478-25c90596089f",
    "lastScheduledRunId": null,
    "lastSuccessfullyExecutedCode": ""
   },
   "outputs": [],
   "source": []
  },
  {
   "cell_type": "code",
   "execution_count": 115,
   "id": "aa0b53a2-a7bf-42f0-8b2c-9ca00f09757c",
   "metadata": {
    "executionCancelledAt": null,
    "executionTime": 47,
    "lastExecutedAt": 1731075894975,
    "lastExecutedByKernel": "776ba79b-155b-4e5e-b478-25c90596089f",
    "lastScheduledRunId": null,
    "lastSuccessfullyExecutedCode": ""
   },
   "outputs": [],
   "source": []
  },
  {
   "cell_type": "code",
   "execution_count": 115,
   "id": "ecb91003-98be-4084-a68a-9f9902b0962a",
   "metadata": {
    "executionCancelledAt": null,
    "executionTime": 50,
    "lastExecutedAt": 1731075895027,
    "lastExecutedByKernel": "776ba79b-155b-4e5e-b478-25c90596089f",
    "lastScheduledRunId": null,
    "lastSuccessfullyExecutedCode": ""
   },
   "outputs": [],
   "source": []
  },
  {
   "cell_type": "code",
   "execution_count": 115,
   "id": "a5c90138-d52d-4ec9-89dc-0827c8fef288",
   "metadata": {
    "executionCancelledAt": null,
    "executionTime": 47,
    "lastExecutedAt": 1731075895075,
    "lastExecutedByKernel": "776ba79b-155b-4e5e-b478-25c90596089f",
    "lastScheduledRunId": null,
    "lastSuccessfullyExecutedCode": ""
   },
   "outputs": [],
   "source": []
  },
  {
   "cell_type": "code",
   "execution_count": 115,
   "id": "4655161a-9527-4aa8-9f9e-dc66b0072fb3",
   "metadata": {
    "executionCancelledAt": null,
    "executionTime": 55,
    "lastExecutedAt": 1731075895130,
    "lastExecutedByKernel": "776ba79b-155b-4e5e-b478-25c90596089f",
    "lastScheduledRunId": null,
    "lastSuccessfullyExecutedCode": ""
   },
   "outputs": [],
   "source": []
  },
  {
   "cell_type": "code",
   "execution_count": 115,
   "id": "7b4e35c6-eeee-4cb2-8a4f-b1a7a9c1706a",
   "metadata": {
    "executionCancelledAt": null,
    "executionTime": 49,
    "lastExecutedAt": 1731075895180,
    "lastExecutedByKernel": "776ba79b-155b-4e5e-b478-25c90596089f",
    "lastScheduledRunId": null,
    "lastSuccessfullyExecutedCode": ""
   },
   "outputs": [],
   "source": []
  }
 ],
 "metadata": {
  "editor": "DataLab",
  "kernelspec": {
   "display_name": "Python 3 (ipykernel)",
   "language": "python",
   "name": "python3"
  },
  "language_info": {
   "codemirror_mode": {
    "name": "ipython",
    "version": 3
   },
   "file_extension": ".py",
   "mimetype": "text/x-python",
   "name": "python",
   "nbconvert_exporter": "python",
   "pygments_lexer": "ipython3",
   "version": "3.12.7"
  }
 },
 "nbformat": 4,
 "nbformat_minor": 5
}
