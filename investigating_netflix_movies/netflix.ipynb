{
 "cells": [
  {
   "cell_type": "markdown",
   "id": "937acf3c-c077-4ca6-8d90-8f6dd4d13c54",
   "metadata": {},
   "source": [
    "<center><img src=\"redpopcorn.jpg\"></center>"
   ]
  },
  {
   "cell_type": "markdown",
   "id": "5962b2cd-17bb-4ec9-b2d5-68537ca26860",
   "metadata": {},
   "source": [
    "**Netflix**! What started in 1997 as a DVD rental service has since exploded into one of the largest entertainment and media companies.\n",
    "\n",
    "Given the large number of movies and series available on the platform, it is a perfect opportunity to flex your exploratory data analysis skills and dive into the entertainment industry.\n",
    "\n",
    "You work for a production company that specializes in nostalgic styles. You want to do some research on movies released in the 1990's. You'll delve into Netflix data and perform exploratory data analysis to better understand this awesome movie decade!\n",
    "\n",
    "You have been supplied with the dataset `netflix_data.csv`, along with the following table detailing the column names and descriptions. Feel free to experiment further after submitting!\n",
    "\n",
    "## The data\n",
    "### **netflix_data.csv**\n",
    "| Column | Description |\n",
    "|--------|-------------|\n",
    "| `show_id` | The ID of the show |\n",
    "| `type` | Type of show |\n",
    "| `title` | Title of the show |\n",
    "| `director` | Director of the show |\n",
    "| `cast` | Cast of the show |\n",
    "| `country` | Country of origin |\n",
    "| `date_added` | Date added to Netflix |\n",
    "| `release_year` | Year of Netflix release |\n",
    "| `duration` | Duration of the show in minutes |\n",
    "| `description` | Description of the show |\n",
    "| `genre` | Show genre |"
   ]
  },
  {
   "cell_type": "code",
   "execution_count": 46,
   "id": "72658473-114f-49eb-bd4e-cc03c710834a",
   "metadata": {
    "executionCancelledAt": null,
    "executionTime": 49,
    "lastExecutedAt": 1731072747724,
    "lastExecutedByKernel": "af4eb0cf-1a1f-40a5-9b77-17524f254413",
    "lastScheduledRunId": null,
    "lastSuccessfullyExecutedCode": "# Start coding here! Use as many cells as you like"
   },
   "outputs": [],
   "source": [
    "# Start coding here! Use as many cells as you like"
   ]
  },
  {
   "cell_type": "code",
   "execution_count": 47,
   "id": "320a3abc-8a36-4b2b-baaf-473325363a4d",
   "metadata": {
    "executionCancelledAt": null,
    "executionTime": 52,
    "lastExecutedAt": 1731072747776,
    "lastExecutedByKernel": "af4eb0cf-1a1f-40a5-9b77-17524f254413",
    "lastScheduledRunId": null,
    "lastSuccessfullyExecutedCode": "# Importing pandas and matplotlib\nimport pandas as pd\nimport matplotlib.pyplot as plt\n\n# Read in the Netflix CSV as a DataFrame\nnetflix_df = pd.read_csv(\"netflix_data.csv\")"
   },
   "outputs": [],
   "source": [
    "# Importing pandas and matplotlib\n",
    "import pandas as pd\n",
    "import matplotlib.pyplot as plt\n",
    "\n",
    "# Read in the Netflix CSV as a DataFrame\n",
    "netflix_df = pd.read_csv(\"netflix_data.csv\")"
   ]
  },
  {
   "cell_type": "code",
   "execution_count": 48,
   "id": "9c3d5251-1275-441b-9991-ee103c9e04d0",
   "metadata": {
    "collapsed": false,
    "executionCancelledAt": null,
    "executionTime": 59,
    "jupyter": {
     "outputs_hidden": false,
     "source_hidden": false
    },
    "lastExecutedAt": 1731072747836,
    "lastExecutedByKernel": "af4eb0cf-1a1f-40a5-9b77-17524f254413",
    "lastScheduledRunId": null,
    "lastSuccessfullyExecutedCode": "netflix_df.head()",
    "outputsMetadata": {
     "0": {
      "height": 237,
      "type": "dataFrame"
     }
    }
   },
   "outputs": [
    {
     "data": {
      "application/com.datacamp.data-table.v2+json": {
       "table": {
        "data": {
         "cast": [
          "Demián Bichir, Héctor Bonilla, Oscar Serrano, Azalia Ortiz, Octavio Michel, Carmen Beato",
          "Tedd Chan, Stella Chung, Henley Hii, Lawrence Koh, Tommy Kuan, Josh Lai, Mark Lee, Susan Leong, Benjamin Lim",
          "Elijah Wood, John C. Reilly, Jennifer Connelly, Christopher Plummer, Crispin Glover, Martin Landau, Fred Tatasciore, Alan Oppenheimer, Tom Kane",
          "Jim Sturgess, Kevin Spacey, Kate Bosworth, Aaron Yoo, Liza Lapira, Jacob Pitts, Laurence Fishburne, Jack McGee, Josh Gad, Sam Golzari, Helen Carey, Jack Gilpin",
          "Erdal Beşikçioğlu, Yasemin Allen, Melis Birkan, Saygın Soysal, Berkan Şal, Metin Belgin, Ayça Eren, Selin Uludoğan, Özay Fecht, Suna Yıldızoğlu"
         ],
         "country": [
          "Mexico",
          "Singapore",
          "United States",
          "United States",
          "Turkey"
         ],
         "date_added": [
          "December 23, 2016",
          "December 20, 2018",
          "November 16, 2017",
          "January 1, 2020",
          "July 1, 2017"
         ],
         "description": [
          "After a devastating earthquake hits Mexico City, trapped survivors from all walks of life wait to be rescued while trying desperately to stay alive.",
          "When an army recruit is found dead, his fellow soldiers are forced to confront a terrifying secret that's haunting their jungle island training camp.",
          "In a postapocalyptic world, rag-doll robots hide in fear from dangerous machines out to exterminate them, until a brave newcomer joins the group.",
          "A brilliant group of students become card-counting experts with the intent of swindling millions out of Las Vegas casinos by playing blackjack.",
          "A genetics professor experiments with a treatment for his comatose sister that blends medical and shamanic cures, but unlocks a shocking side effect."
         ],
         "director": [
          "Jorge Michel Grau",
          "Gilbert Chan",
          "Shane Acker",
          "Robert Luketic",
          "Serdar Akar"
         ],
         "duration": [
          93,
          78,
          80,
          123,
          1
         ],
         "genre": [
          "Dramas",
          "Horror Movies",
          "Action",
          "Dramas",
          "International TV"
         ],
         "index": [
          0,
          1,
          2,
          3,
          4
         ],
         "release_year": [
          2016,
          2011,
          2009,
          2008,
          2016
         ],
         "show_id": [
          "s2",
          "s3",
          "s4",
          "s5",
          "s6"
         ],
         "title": [
          "7:19",
          "23:59",
          "9",
          "21",
          "46"
         ],
         "type": [
          "Movie",
          "Movie",
          "Movie",
          "Movie",
          "TV Show"
         ]
        },
        "schema": {
         "fields": [
          {
           "name": "index",
           "type": "integer"
          },
          {
           "name": "show_id",
           "type": "string"
          },
          {
           "name": "type",
           "type": "string"
          },
          {
           "name": "title",
           "type": "string"
          },
          {
           "name": "director",
           "type": "string"
          },
          {
           "name": "cast",
           "type": "string"
          },
          {
           "name": "country",
           "type": "string"
          },
          {
           "name": "date_added",
           "type": "string"
          },
          {
           "name": "release_year",
           "type": "integer"
          },
          {
           "name": "duration",
           "type": "integer"
          },
          {
           "name": "description",
           "type": "string"
          },
          {
           "name": "genre",
           "type": "string"
          }
         ],
         "pandas_version": "1.4.0",
         "primaryKey": [
          "index"
         ]
        }
       },
       "total_rows": 5,
       "truncation_type": null
      },
      "text/html": [
       "<div>\n",
       "<style scoped>\n",
       "    .dataframe tbody tr th:only-of-type {\n",
       "        vertical-align: middle;\n",
       "    }\n",
       "\n",
       "    .dataframe tbody tr th {\n",
       "        vertical-align: top;\n",
       "    }\n",
       "\n",
       "    .dataframe thead th {\n",
       "        text-align: right;\n",
       "    }\n",
       "</style>\n",
       "<table border=\"1\" class=\"dataframe\">\n",
       "  <thead>\n",
       "    <tr style=\"text-align: right;\">\n",
       "      <th></th>\n",
       "      <th>show_id</th>\n",
       "      <th>type</th>\n",
       "      <th>title</th>\n",
       "      <th>director</th>\n",
       "      <th>cast</th>\n",
       "      <th>country</th>\n",
       "      <th>date_added</th>\n",
       "      <th>release_year</th>\n",
       "      <th>duration</th>\n",
       "      <th>description</th>\n",
       "      <th>genre</th>\n",
       "    </tr>\n",
       "  </thead>\n",
       "  <tbody>\n",
       "    <tr>\n",
       "      <th>0</th>\n",
       "      <td>s2</td>\n",
       "      <td>Movie</td>\n",
       "      <td>7:19</td>\n",
       "      <td>Jorge Michel Grau</td>\n",
       "      <td>Demián Bichir, Héctor Bonilla, Oscar Serrano, ...</td>\n",
       "      <td>Mexico</td>\n",
       "      <td>December 23, 2016</td>\n",
       "      <td>2016</td>\n",
       "      <td>93</td>\n",
       "      <td>After a devastating earthquake hits Mexico Cit...</td>\n",
       "      <td>Dramas</td>\n",
       "    </tr>\n",
       "    <tr>\n",
       "      <th>1</th>\n",
       "      <td>s3</td>\n",
       "      <td>Movie</td>\n",
       "      <td>23:59</td>\n",
       "      <td>Gilbert Chan</td>\n",
       "      <td>Tedd Chan, Stella Chung, Henley Hii, Lawrence ...</td>\n",
       "      <td>Singapore</td>\n",
       "      <td>December 20, 2018</td>\n",
       "      <td>2011</td>\n",
       "      <td>78</td>\n",
       "      <td>When an army recruit is found dead, his fellow...</td>\n",
       "      <td>Horror Movies</td>\n",
       "    </tr>\n",
       "    <tr>\n",
       "      <th>2</th>\n",
       "      <td>s4</td>\n",
       "      <td>Movie</td>\n",
       "      <td>9</td>\n",
       "      <td>Shane Acker</td>\n",
       "      <td>Elijah Wood, John C. Reilly, Jennifer Connelly...</td>\n",
       "      <td>United States</td>\n",
       "      <td>November 16, 2017</td>\n",
       "      <td>2009</td>\n",
       "      <td>80</td>\n",
       "      <td>In a postapocalyptic world, rag-doll robots hi...</td>\n",
       "      <td>Action</td>\n",
       "    </tr>\n",
       "    <tr>\n",
       "      <th>3</th>\n",
       "      <td>s5</td>\n",
       "      <td>Movie</td>\n",
       "      <td>21</td>\n",
       "      <td>Robert Luketic</td>\n",
       "      <td>Jim Sturgess, Kevin Spacey, Kate Bosworth, Aar...</td>\n",
       "      <td>United States</td>\n",
       "      <td>January 1, 2020</td>\n",
       "      <td>2008</td>\n",
       "      <td>123</td>\n",
       "      <td>A brilliant group of students become card-coun...</td>\n",
       "      <td>Dramas</td>\n",
       "    </tr>\n",
       "    <tr>\n",
       "      <th>4</th>\n",
       "      <td>s6</td>\n",
       "      <td>TV Show</td>\n",
       "      <td>46</td>\n",
       "      <td>Serdar Akar</td>\n",
       "      <td>Erdal Beşikçioğlu, Yasemin Allen, Melis Birkan...</td>\n",
       "      <td>Turkey</td>\n",
       "      <td>July 1, 2017</td>\n",
       "      <td>2016</td>\n",
       "      <td>1</td>\n",
       "      <td>A genetics professor experiments with a treatm...</td>\n",
       "      <td>International TV</td>\n",
       "    </tr>\n",
       "  </tbody>\n",
       "</table>\n",
       "</div>"
      ],
      "text/plain": [
       "  show_id  ...             genre\n",
       "0      s2  ...            Dramas\n",
       "1      s3  ...     Horror Movies\n",
       "2      s4  ...            Action\n",
       "3      s5  ...            Dramas\n",
       "4      s6  ...  International TV\n",
       "\n",
       "[5 rows x 11 columns]"
      ]
     },
     "execution_count": 48,
     "metadata": {},
     "output_type": "execute_result"
    }
   ],
   "source": [
    "netflix_df.head()"
   ]
  },
  {
   "cell_type": "code",
   "execution_count": 49,
   "id": "96f0b94f-8571-4358-9294-f059496c7508",
   "metadata": {
    "executionCancelledAt": null,
    "executionTime": 48,
    "lastExecutedAt": 1731072747884,
    "lastExecutedByKernel": "af4eb0cf-1a1f-40a5-9b77-17524f254413",
    "lastScheduledRunId": null,
    "lastSuccessfullyExecutedCode": "netflix_df['type'].unique()"
   },
   "outputs": [
    {
     "data": {
      "text/plain": [
       "array(['Movie', 'TV Show'], dtype=object)"
      ]
     },
     "execution_count": 49,
     "metadata": {},
     "output_type": "execute_result"
    }
   ],
   "source": [
    "netflix_df['type'].unique()"
   ]
  },
  {
   "cell_type": "code",
   "execution_count": 50,
   "id": "36ce5aa3-c8c8-4d81-8b66-358de8808c31",
   "metadata": {
    "executionCancelledAt": null,
    "executionTime": 48,
    "lastExecutedAt": 1731072747932,
    "lastExecutedByKernel": "af4eb0cf-1a1f-40a5-9b77-17524f254413",
    "lastScheduledRunId": null,
    "lastSuccessfullyExecutedCode": "netflix_movie_df = netflix_df[netflix_df['type']=='Movie']"
   },
   "outputs": [],
   "source": [
    "netflix_movie_df = netflix_df[netflix_df['type']=='Movie']"
   ]
  },
  {
   "cell_type": "code",
   "execution_count": 51,
   "id": "6d14f9b7-e11f-4ec2-b0b6-633fe5dd688b",
   "metadata": {
    "executionCancelledAt": null,
    "executionTime": 52,
    "lastExecutedAt": 1731072747984,
    "lastExecutedByKernel": "af4eb0cf-1a1f-40a5-9b77-17524f254413",
    "lastScheduledRunId": null,
    "lastSuccessfullyExecutedCode": "netflix_movie_df.shape"
   },
   "outputs": [
    {
     "data": {
      "text/plain": [
       "(4677, 11)"
      ]
     },
     "execution_count": 51,
     "metadata": {},
     "output_type": "execute_result"
    }
   ],
   "source": [
    "netflix_movie_df.shape"
   ]
  },
  {
   "cell_type": "code",
   "execution_count": 52,
   "id": "31374636-5994-4f13-aca4-e1122f4a8e27",
   "metadata": {
    "executionCancelledAt": null,
    "executionTime": 60,
    "lastExecutedAt": 1731072748044,
    "lastExecutedByKernel": "af4eb0cf-1a1f-40a5-9b77-17524f254413",
    "lastScheduledRunId": null,
    "lastSuccessfullyExecutedCode": "netflix_movie_df.info()",
    "outputsMetadata": {
     "0": {
      "height": 395,
      "type": "stream"
     }
    }
   },
   "outputs": [
    {
     "name": "stdout",
     "output_type": "stream",
     "text": [
      "<class 'pandas.core.frame.DataFrame'>\n",
      "Int64Index: 4677 entries, 0 to 4811\n",
      "Data columns (total 11 columns):\n",
      " #   Column        Non-Null Count  Dtype \n",
      "---  ------        --------------  ----- \n",
      " 0   show_id       4677 non-null   object\n",
      " 1   type          4677 non-null   object\n",
      " 2   title         4677 non-null   object\n",
      " 3   director      4677 non-null   object\n",
      " 4   cast          4677 non-null   object\n",
      " 5   country       4677 non-null   object\n",
      " 6   date_added    4677 non-null   object\n",
      " 7   release_year  4677 non-null   int64 \n",
      " 8   duration      4677 non-null   int64 \n",
      " 9   description   4677 non-null   object\n",
      " 10  genre         4677 non-null   object\n",
      "dtypes: int64(2), object(9)\n",
      "memory usage: 438.5+ KB\n"
     ]
    }
   ],
   "source": [
    "netflix_movie_df.info()"
   ]
  },
  {
   "cell_type": "code",
   "execution_count": 53,
   "id": "83acc3c8-db57-4d43-8124-fc88c41df44e",
   "metadata": {
    "executionCancelledAt": null,
    "executionTime": 52,
    "lastExecutedAt": 1731072748096,
    "lastExecutedByKernel": "af4eb0cf-1a1f-40a5-9b77-17524f254413",
    "lastScheduledRunId": null,
    "lastSuccessfullyExecutedCode": "netflix_movie_df_90s = netflix_movie_df[(netflix_movie_df['release_year'] >= 1990) & (netflix_movie_df['release_year'] < 2000)]"
   },
   "outputs": [],
   "source": [
    "netflix_movie_df_90s = netflix_movie_df[(netflix_movie_df['release_year'] >= 1990) & (netflix_movie_df['release_year'] < 2000)]"
   ]
  },
  {
   "cell_type": "code",
   "execution_count": 54,
   "id": "855a5101-a405-4b8a-b135-70c0794803ab",
   "metadata": {
    "executionCancelledAt": null,
    "executionTime": 49,
    "lastExecutedAt": 1731072748145,
    "lastExecutedByKernel": "af4eb0cf-1a1f-40a5-9b77-17524f254413",
    "lastScheduledRunId": null,
    "lastSuccessfullyExecutedCode": "netflix_movie_df_90s.shape"
   },
   "outputs": [
    {
     "data": {
      "text/plain": [
       "(183, 11)"
      ]
     },
     "execution_count": 54,
     "metadata": {},
     "output_type": "execute_result"
    }
   ],
   "source": [
    "netflix_movie_df_90s.shape"
   ]
  },
  {
   "cell_type": "code",
   "execution_count": 55,
   "id": "5e0120f3-534d-4a4b-83e2-92e5613c5729",
   "metadata": {
    "executionCancelledAt": null,
    "executionTime": 67,
    "lastExecutedAt": 1731072748212,
    "lastExecutedByKernel": "af4eb0cf-1a1f-40a5-9b77-17524f254413",
    "lastScheduledRunId": null,
    "lastSuccessfullyExecutedCode": "netflix_movie_df_90s.head(10)",
    "outputsMetadata": {
     "0": {
      "height": 377,
      "type": "dataFrame"
     }
    }
   },
   "outputs": [
    {
     "data": {
      "application/com.datacamp.data-table.v2+json": {
       "table": {
        "data": {
         "cast": [
          "Samuel L. Jackson, John Heard, Kelly Rowan, Clifton Collins Jr., Tony Plana",
          "Debra Winger, Barbara Hershey, Gabriel Byrne, Laurie Metcalf, John Terry, Maggie Gyllenhaal, Jake Gyllenhaal, Chloe Webb, David Strathairn",
          "Will Ferrell, Chris Kattan, Dan Hedaya, Molly Shannon, Richard Grieco, Loni Anderson, Elisa Donovan, Gigi Rice, Lochlyn Munro, Dwayne Hickman",
          "Martin Lawrence, Lynn Whitfield, Regina King, Bobby Brown, Della Reese, Daryl Mitchell, Roger Mosley, Malinda Williams, Roger E. Mosley, Simbi Khali, Tangie Ambrose, Wendy Raquel Robinson, Stacii Jae Johnson, Faizon Love, Miguel A. Núñez Jr., Tracy Morgan",
          "Saif Ali Khan, Mamta Kulkarni, Mohnish Bahl, Sharmila Tagore, Saeed Jaffrey, Kader Khan",
          "Amitabh Bachchan, Mithun Chakraborty, Danny Denzongpa, Madhavi, Neelam, Alok Nath, Rohini Hattangadi, Tinnu Anand, Vikram Gokhale, Archana Puran Singh",
          "Kevin Spacey, Annette Bening, Thora Birch, Wes Bentley, Mena Suvari, Chris Cooper, Peter Gallagher, Allison Janney, Scott Bakula, Sam Robards",
          "Edward Norton, Edward Furlong, Beverly D'Angelo, Jennifer Lien, Ethan Suplee, Fairuza Balk, Avery Brooks, Elliott Gould, Stacy Keach, William Russ, Guy Torry",
          "Philip Glasser, James Stewart, Erica Yohn, Cathy Cavadini, Nehemiah Persoff, Dom DeLuise, Amy Irving, John Cleese, Jon Lovitz",
          "Thomas Dekker, Lacey Chabert, Jane Singer, Nehemiah Persoff, Susan Boyd, Robert Hays, Pat Musick, Dom DeLuise, Candi Milo, Jeff Bennett"
         ],
         "country": [
          "United States",
          "United States",
          "United States",
          "United States",
          "India",
          "India",
          "United States",
          "United States",
          "United States",
          "United States"
         ],
         "date_added": [
          "November 1, 2019",
          "April 1, 2018",
          "December 1, 2019",
          "December 1, 2020",
          "June 1, 2017",
          "April 1, 2020",
          "January 1, 2020",
          "November 1, 2019",
          "April 1, 2018",
          "April 1, 2018"
         ],
         "description": [
          "After one of his high school students attacks him, dedicated teacher Trevor Garfield grows weary of the gang warfare in the New York City school system and moves to California to teach there, thinking it must be a less hostile environment.",
          "At the center of this engrossing melodrama is a Golden Globe-nominated turn by Debra Winger, who plays a sheltered, slow-witted woman living with her widowed Aunt Frances while working at a dry cleaners.",
          "After a run-in with Richard Grieco, dimwits Doug and Steve gain entry to a swanky nightclub in this comedy based on a \"Saturday Night Live\" sketch.",
          "When a philandering club promoter sets out to woo a rich, glamorous woman, he has no clue just how much mayhem he's about to unleash on his life.",
          "Raised by a kindly thief, orphaned Jimmy goes on the run from goons and falls in love with Jyoti, whose father indirectly caused his parents' deaths.",
          "A boy grows up to become a gangster in pursuit of the mobster who killed his innocent father, but revenge and reparation may come at great costs.",
          "While struggling to endure his tightly wound wife, an unfulfilling job and a surly teen, a man becomes obsessed with one of his daughter's friends.",
          "A neo-Nazi gets sent to prison for murder and comes out a changed man. But can he prevent his younger brother from following in his footsteps?",
          "Fievel and his family head west for what turns out to be a wild adventure. Deep in cowboy country, the intrepid mouse faces down a nasty feline.",
          "When a monster goes on a mouse-napping spree in New York, Fievel and his friends help a reporter get to the bottom of the mystery."
         ],
         "director": [
          "Kevin Reynolds",
          "Stephen Gyllenhaal",
          "John Fortenberry",
          "Martin Lawrence",
          "Umesh Mehra",
          "Mukul Anand",
          "Sam Mendes",
          "Tony Kaye",
          "Phil Nibbelink, Simon Wells",
          "Larry Latham"
         ],
         "duration": [
          119,
          101,
          82,
          108,
          154,
          174,
          122,
          119,
          75,
          75
         ],
         "genre": [
          "Dramas",
          "Dramas",
          "Comedies",
          "Comedies",
          "Dramas",
          "Dramas",
          "Dramas",
          "Dramas",
          "Children",
          "Children"
         ],
         "index": [
          6,
          118,
          145,
          167,
          194,
          240,
          315,
          320,
          333,
          334
         ],
         "release_year": [
          1997,
          1993,
          1998,
          1996,
          1993,
          1990,
          1999,
          1998,
          1991,
          1999
         ],
         "show_id": [
          "s8",
          "s167",
          "s211",
          "s239",
          "s274",
          "s344",
          "s456",
          "s467",
          "s487",
          "s488"
         ],
         "title": [
          "187",
          "A Dangerous Woman",
          "A Night at the Roxbury",
          "A Thin Line Between Love & Hate",
          "Aashik Awara",
          "Agneepath",
          "American Beauty",
          "American History X",
          "An American Tail: Fievel Goes West",
          "An American Tail: The Mystery of the Night Monster"
         ],
         "type": [
          "Movie",
          "Movie",
          "Movie",
          "Movie",
          "Movie",
          "Movie",
          "Movie",
          "Movie",
          "Movie",
          "Movie"
         ]
        },
        "schema": {
         "fields": [
          {
           "name": "index",
           "type": "integer"
          },
          {
           "name": "show_id",
           "type": "string"
          },
          {
           "name": "type",
           "type": "string"
          },
          {
           "name": "title",
           "type": "string"
          },
          {
           "name": "director",
           "type": "string"
          },
          {
           "name": "cast",
           "type": "string"
          },
          {
           "name": "country",
           "type": "string"
          },
          {
           "name": "date_added",
           "type": "string"
          },
          {
           "name": "release_year",
           "type": "integer"
          },
          {
           "name": "duration",
           "type": "integer"
          },
          {
           "name": "description",
           "type": "string"
          },
          {
           "name": "genre",
           "type": "string"
          }
         ],
         "pandas_version": "1.4.0",
         "primaryKey": [
          "index"
         ]
        }
       },
       "total_rows": 10,
       "truncation_type": null
      },
      "text/html": [
       "<div>\n",
       "<style scoped>\n",
       "    .dataframe tbody tr th:only-of-type {\n",
       "        vertical-align: middle;\n",
       "    }\n",
       "\n",
       "    .dataframe tbody tr th {\n",
       "        vertical-align: top;\n",
       "    }\n",
       "\n",
       "    .dataframe thead th {\n",
       "        text-align: right;\n",
       "    }\n",
       "</style>\n",
       "<table border=\"1\" class=\"dataframe\">\n",
       "  <thead>\n",
       "    <tr style=\"text-align: right;\">\n",
       "      <th></th>\n",
       "      <th>show_id</th>\n",
       "      <th>type</th>\n",
       "      <th>title</th>\n",
       "      <th>director</th>\n",
       "      <th>cast</th>\n",
       "      <th>country</th>\n",
       "      <th>date_added</th>\n",
       "      <th>release_year</th>\n",
       "      <th>duration</th>\n",
       "      <th>description</th>\n",
       "      <th>genre</th>\n",
       "    </tr>\n",
       "  </thead>\n",
       "  <tbody>\n",
       "    <tr>\n",
       "      <th>6</th>\n",
       "      <td>s8</td>\n",
       "      <td>Movie</td>\n",
       "      <td>187</td>\n",
       "      <td>Kevin Reynolds</td>\n",
       "      <td>Samuel L. Jackson, John Heard, Kelly Rowan, Cl...</td>\n",
       "      <td>United States</td>\n",
       "      <td>November 1, 2019</td>\n",
       "      <td>1997</td>\n",
       "      <td>119</td>\n",
       "      <td>After one of his high school students attacks ...</td>\n",
       "      <td>Dramas</td>\n",
       "    </tr>\n",
       "    <tr>\n",
       "      <th>118</th>\n",
       "      <td>s167</td>\n",
       "      <td>Movie</td>\n",
       "      <td>A Dangerous Woman</td>\n",
       "      <td>Stephen Gyllenhaal</td>\n",
       "      <td>Debra Winger, Barbara Hershey, Gabriel Byrne, ...</td>\n",
       "      <td>United States</td>\n",
       "      <td>April 1, 2018</td>\n",
       "      <td>1993</td>\n",
       "      <td>101</td>\n",
       "      <td>At the center of this engrossing melodrama is ...</td>\n",
       "      <td>Dramas</td>\n",
       "    </tr>\n",
       "    <tr>\n",
       "      <th>145</th>\n",
       "      <td>s211</td>\n",
       "      <td>Movie</td>\n",
       "      <td>A Night at the Roxbury</td>\n",
       "      <td>John Fortenberry</td>\n",
       "      <td>Will Ferrell, Chris Kattan, Dan Hedaya, Molly ...</td>\n",
       "      <td>United States</td>\n",
       "      <td>December 1, 2019</td>\n",
       "      <td>1998</td>\n",
       "      <td>82</td>\n",
       "      <td>After a run-in with Richard Grieco, dimwits Do...</td>\n",
       "      <td>Comedies</td>\n",
       "    </tr>\n",
       "    <tr>\n",
       "      <th>167</th>\n",
       "      <td>s239</td>\n",
       "      <td>Movie</td>\n",
       "      <td>A Thin Line Between Love &amp; Hate</td>\n",
       "      <td>Martin Lawrence</td>\n",
       "      <td>Martin Lawrence, Lynn Whitfield, Regina King, ...</td>\n",
       "      <td>United States</td>\n",
       "      <td>December 1, 2020</td>\n",
       "      <td>1996</td>\n",
       "      <td>108</td>\n",
       "      <td>When a philandering club promoter sets out to ...</td>\n",
       "      <td>Comedies</td>\n",
       "    </tr>\n",
       "    <tr>\n",
       "      <th>194</th>\n",
       "      <td>s274</td>\n",
       "      <td>Movie</td>\n",
       "      <td>Aashik Awara</td>\n",
       "      <td>Umesh Mehra</td>\n",
       "      <td>Saif Ali Khan, Mamta Kulkarni, Mohnish Bahl, S...</td>\n",
       "      <td>India</td>\n",
       "      <td>June 1, 2017</td>\n",
       "      <td>1993</td>\n",
       "      <td>154</td>\n",
       "      <td>Raised by a kindly thief, orphaned Jimmy goes ...</td>\n",
       "      <td>Dramas</td>\n",
       "    </tr>\n",
       "    <tr>\n",
       "      <th>240</th>\n",
       "      <td>s344</td>\n",
       "      <td>Movie</td>\n",
       "      <td>Agneepath</td>\n",
       "      <td>Mukul Anand</td>\n",
       "      <td>Amitabh Bachchan, Mithun Chakraborty, Danny De...</td>\n",
       "      <td>India</td>\n",
       "      <td>April 1, 2020</td>\n",
       "      <td>1990</td>\n",
       "      <td>174</td>\n",
       "      <td>A boy grows up to become a gangster in pursuit...</td>\n",
       "      <td>Dramas</td>\n",
       "    </tr>\n",
       "    <tr>\n",
       "      <th>315</th>\n",
       "      <td>s456</td>\n",
       "      <td>Movie</td>\n",
       "      <td>American Beauty</td>\n",
       "      <td>Sam Mendes</td>\n",
       "      <td>Kevin Spacey, Annette Bening, Thora Birch, Wes...</td>\n",
       "      <td>United States</td>\n",
       "      <td>January 1, 2020</td>\n",
       "      <td>1999</td>\n",
       "      <td>122</td>\n",
       "      <td>While struggling to endure his tightly wound w...</td>\n",
       "      <td>Dramas</td>\n",
       "    </tr>\n",
       "    <tr>\n",
       "      <th>320</th>\n",
       "      <td>s467</td>\n",
       "      <td>Movie</td>\n",
       "      <td>American History X</td>\n",
       "      <td>Tony Kaye</td>\n",
       "      <td>Edward Norton, Edward Furlong, Beverly D'Angel...</td>\n",
       "      <td>United States</td>\n",
       "      <td>November 1, 2019</td>\n",
       "      <td>1998</td>\n",
       "      <td>119</td>\n",
       "      <td>A neo-Nazi gets sent to prison for murder and ...</td>\n",
       "      <td>Dramas</td>\n",
       "    </tr>\n",
       "    <tr>\n",
       "      <th>333</th>\n",
       "      <td>s487</td>\n",
       "      <td>Movie</td>\n",
       "      <td>An American Tail: Fievel Goes West</td>\n",
       "      <td>Phil Nibbelink, Simon Wells</td>\n",
       "      <td>Philip Glasser, James Stewart, Erica Yohn, Cat...</td>\n",
       "      <td>United States</td>\n",
       "      <td>April 1, 2018</td>\n",
       "      <td>1991</td>\n",
       "      <td>75</td>\n",
       "      <td>Fievel and his family head west for what turns...</td>\n",
       "      <td>Children</td>\n",
       "    </tr>\n",
       "    <tr>\n",
       "      <th>334</th>\n",
       "      <td>s488</td>\n",
       "      <td>Movie</td>\n",
       "      <td>An American Tail: The Mystery of the Night Mon...</td>\n",
       "      <td>Larry Latham</td>\n",
       "      <td>Thomas Dekker, Lacey Chabert, Jane Singer, Neh...</td>\n",
       "      <td>United States</td>\n",
       "      <td>April 1, 2018</td>\n",
       "      <td>1999</td>\n",
       "      <td>75</td>\n",
       "      <td>When a monster goes on a mouse-napping spree i...</td>\n",
       "      <td>Children</td>\n",
       "    </tr>\n",
       "  </tbody>\n",
       "</table>\n",
       "</div>"
      ],
      "text/plain": [
       "    show_id   type  ...                                        description     genre\n",
       "6        s8  Movie  ...  After one of his high school students attacks ...    Dramas\n",
       "118    s167  Movie  ...  At the center of this engrossing melodrama is ...    Dramas\n",
       "145    s211  Movie  ...  After a run-in with Richard Grieco, dimwits Do...  Comedies\n",
       "167    s239  Movie  ...  When a philandering club promoter sets out to ...  Comedies\n",
       "194    s274  Movie  ...  Raised by a kindly thief, orphaned Jimmy goes ...    Dramas\n",
       "240    s344  Movie  ...  A boy grows up to become a gangster in pursuit...    Dramas\n",
       "315    s456  Movie  ...  While struggling to endure his tightly wound w...    Dramas\n",
       "320    s467  Movie  ...  A neo-Nazi gets sent to prison for murder and ...    Dramas\n",
       "333    s487  Movie  ...  Fievel and his family head west for what turns...  Children\n",
       "334    s488  Movie  ...  When a monster goes on a mouse-napping spree i...  Children\n",
       "\n",
       "[10 rows x 11 columns]"
      ]
     },
     "execution_count": 55,
     "metadata": {},
     "output_type": "execute_result"
    }
   ],
   "source": [
    "netflix_movie_df_90s.head(10)"
   ]
  },
  {
   "cell_type": "code",
   "execution_count": 56,
   "id": "afc24395-6517-4855-afb3-c42041b34d55",
   "metadata": {
    "executionCancelledAt": null,
    "executionTime": 49,
    "lastExecutedAt": 1731072748261,
    "lastExecutedByKernel": "af4eb0cf-1a1f-40a5-9b77-17524f254413",
    "lastScheduledRunId": null,
    "lastSuccessfullyExecutedCode": "netflix_movie_df_90s['duration'].describe()",
    "outputsMetadata": {
     "0": {
      "height": 306,
      "type": "dataFrame"
     }
    }
   },
   "outputs": [
    {
     "data": {
      "application/com.datacamp.data-table.v2+json": {
       "table": {
        "data": {
         "duration": [
          183,
          115.1202185792,
          33.2019590306,
          28,
          94,
          108,
          136,
          195
         ],
         "index": [
          "count",
          "mean",
          "std",
          "min",
          "25%",
          "50%",
          "75%",
          "max"
         ]
        },
        "schema": {
         "fields": [
          {
           "name": "index",
           "type": "string"
          },
          {
           "name": "duration",
           "type": "number"
          }
         ],
         "pandas_version": "1.4.0",
         "primaryKey": [
          "index"
         ]
        }
       },
       "total_rows": 8,
       "truncation_type": null
      },
      "text/plain": [
       "count    183.000000\n",
       "mean     115.120219\n",
       "std       33.201959\n",
       "min       28.000000\n",
       "25%       94.000000\n",
       "50%      108.000000\n",
       "75%      136.000000\n",
       "max      195.000000\n",
       "Name: duration, dtype: float64"
      ]
     },
     "execution_count": 56,
     "metadata": {},
     "output_type": "execute_result"
    }
   ],
   "source": [
    "netflix_movie_df_90s['duration'].describe()"
   ]
  },
  {
   "cell_type": "code",
   "execution_count": 57,
   "id": "cb3885ef-1dc9-4b52-9dd5-6dafc5c684b1",
   "metadata": {
    "executionCancelledAt": null,
    "executionTime": 211,
    "lastExecutedAt": 1731072748472,
    "lastExecutedByKernel": "af4eb0cf-1a1f-40a5-9b77-17524f254413",
    "lastScheduledRunId": null,
    "lastSuccessfullyExecutedCode": "plt.hist(netflix_movie_df_90s['duration'])"
   },
   "outputs": [
    {
     "data": {
      "text/plain": [
       "(array([ 3.,  4.,  9., 34., 47., 33., 16., 14., 17.,  6.]),\n",
       " array([ 28. ,  44.7,  61.4,  78.1,  94.8, 111.5, 128.2, 144.9, 161.6,\n",
       "        178.3, 195. ]),\n",
       " <BarContainer object of 10 artists>)"
      ]
     },
     "execution_count": 57,
     "metadata": {},
     "output_type": "execute_result"
    },
    {
     "data": {
      "image/png": "[encoded data removed]",
      "text/plain": [
       "<Figure size 640x480 with 1 Axes>"
      ]
     },
     "metadata": {
      "image/png": {
       "height": 413,
       "width": 546
      }
     },
     "output_type": "display_data"
    }
   ],
   "source": [
    "plt.hist(netflix_movie_df_90s['duration'])"
   ]
  },
  {
   "cell_type": "code",
   "execution_count": 58,
   "id": "01960cd9-36da-49cb-94ce-26e751cb4c3a",
   "metadata": {
    "executionCancelledAt": null,
    "executionTime": 52,
    "lastExecutedAt": 1731072748524,
    "lastExecutedByKernel": "af4eb0cf-1a1f-40a5-9b77-17524f254413",
    "lastScheduledRunId": null,
    "lastSuccessfullyExecutedCode": "netflix_movie_df_90s['duration'].value_counts()",
    "outputsMetadata": {
     "0": {
      "height": 543,
      "type": "dataFrame"
     }
    }
   },
   "outputs": [
    {
     "data": {
      "application/com.datacamp.data-table.v2+json": {
       "table": {
        "data": {
         "duration": [
          7,
          6,
          5,
          5,
          5,
          5,
          4,
          4,
          4,
          4,
          4,
          3,
          3,
          3,
          3,
          3,
          3,
          3,
          3,
          3,
          3,
          2,
          2,
          2,
          2,
          2,
          2,
          2,
          2,
          2,
          2,
          2,
          2,
          2,
          2,
          2,
          2,
          2,
          2,
          2,
          2,
          2,
          2,
          2,
          2,
          2,
          2,
          2,
          2,
          2,
          2,
          1,
          1,
          1,
          1,
          1,
          1,
          1,
          1,
          1,
          1,
          1,
          1,
          1,
          1,
          1,
          1,
          1,
          1,
          1,
          1,
          1,
          1,
          1,
          1,
          1,
          1,
          1,
          1,
          1,
          1,
          1,
          1,
          1,
          1,
          1,
          1,
          1,
          1,
          1,
          1
         ],
         "index": [
          94,
          101,
          108,
          93,
          96,
          95,
          103,
          119,
          112,
          154,
          89,
          118,
          81,
          104,
          136,
          116,
          105,
          88,
          163,
          102,
          106,
          114,
          110,
          69,
          85,
          107,
          133,
          111,
          124,
          161,
          173,
          121,
          151,
          177,
          117,
          126,
          142,
          176,
          130,
          90,
          82,
          128,
          122,
          139,
          49,
          166,
          75,
          148,
          165,
          113,
          91,
          77,
          71,
          195,
          131,
          120,
          127,
          160,
          168,
          84,
          155,
          174,
          83,
          87,
          138,
          141,
          30,
          135,
          78,
          187,
          31,
          62,
          164,
          145,
          149,
          125,
          99,
          56,
          61,
          28,
          143,
          193,
          73,
          170,
          97,
          185,
          109,
          79,
          189,
          98,
          191
         ]
        },
        "schema": {
         "fields": [
          {
           "name": "index",
           "type": "integer"
          },
          {
           "name": "duration",
           "type": "integer"
          }
         ],
         "pandas_version": "1.4.0",
         "primaryKey": [
          "index"
         ]
        }
       },
       "total_rows": 91,
       "truncation_type": null
      },
      "text/plain": [
       "94     7\n",
       "101    6\n",
       "108    5\n",
       "93     5\n",
       "96     5\n",
       "      ..\n",
       "109    1\n",
       "79     1\n",
       "189    1\n",
       "98     1\n",
       "191    1\n",
       "Name: duration, Length: 91, dtype: int64"
      ]
     },
     "execution_count": 58,
     "metadata": {},
     "output_type": "execute_result"
    }
   ],
   "source": [
    "netflix_movie_df_90s['duration'].value_counts()"
   ]
  },
  {
   "cell_type": "markdown",
   "id": "3df87590-1851-4024-8cac-e6199613ea32",
   "metadata": {},
   "source": [
    "After careful analysis of duration in 90s movies, the approximate most frequent duration is 110 minutes"
   ]
  },
  {
   "cell_type": "code",
   "execution_count": 59,
   "id": "88d65dcd-59fa-4d7a-8919-574dcedac6c5",
   "metadata": {
    "executionCancelledAt": null,
    "executionTime": 48,
    "lastExecutedAt": 1731072748572,
    "lastExecutedByKernel": "af4eb0cf-1a1f-40a5-9b77-17524f254413",
    "lastScheduledRunId": null,
    "lastSuccessfullyExecutedCode": "duration = 110"
   },
   "outputs": [],
   "source": [
    "duration = 110"
   ]
  },
  {
   "cell_type": "code",
   "execution_count": 60,
   "id": "db521939-6a9e-4277-b600-892824ad42a7",
   "metadata": {
    "executionCancelledAt": null,
    "executionTime": 48,
    "lastExecutedAt": 1731072748620,
    "lastExecutedByKernel": "af4eb0cf-1a1f-40a5-9b77-17524f254413",
    "lastScheduledRunId": null,
    "lastSuccessfullyExecutedCode": "netflix_short_movie_df_90s = netflix_movie_df_90s[netflix_movie_df_90s['duration'] < 90]"
   },
   "outputs": [],
   "source": [
    "netflix_short_movie_df_90s = netflix_movie_df_90s[netflix_movie_df_90s['duration'] < 90]"
   ]
  },
  {
   "cell_type": "code",
   "execution_count": 61,
   "id": "c6639bc3-285b-4819-9bc8-f3347286ca3b",
   "metadata": {
    "executionCancelledAt": null,
    "executionTime": 64,
    "lastExecutedAt": 1731072748684,
    "lastExecutedByKernel": "af4eb0cf-1a1f-40a5-9b77-17524f254413",
    "lastScheduledRunId": null,
    "lastSuccessfullyExecutedCode": "netflix_short_movie_df_90s.head()",
    "outputsMetadata": {
     "0": {
      "height": 237,
      "type": "dataFrame"
     }
    }
   },
   "outputs": [
    {
     "data": {
      "application/com.datacamp.data-table.v2+json": {
       "table": {
        "data": {
         "cast": [
          "Will Ferrell, Chris Kattan, Dan Hedaya, Molly Shannon, Richard Grieco, Loni Anderson, Elisa Donovan, Gigi Rice, Lochlyn Munro, Dwayne Hickman",
          "Philip Glasser, James Stewart, Erica Yohn, Cathy Cavadini, Nehemiah Persoff, Dom DeLuise, Amy Irving, John Cleese, Jon Lovitz",
          "Thomas Dekker, Lacey Chabert, Jane Singer, Nehemiah Persoff, Susan Boyd, Robert Hays, Pat Musick, Dom DeLuise, Candi Milo, Jeff Bennett",
          "Roy Marsden",
          "Kevin Bacon, Bob Hoskins, Bridget Fonda, Jim Cummings, Phil Collins, Jack Angel, Danny Mann, Robbie Rist"
         ],
         "country": [
          "United States",
          "United States",
          "United States",
          "United Kingdom",
          "United States"
         ],
         "date_added": [
          "December 1, 2019",
          "April 1, 2018",
          "April 1, 2018",
          "January 19, 2019",
          "April 1, 2018"
         ],
         "description": [
          "After a run-in with Richard Grieco, dimwits Doug and Steve gain entry to a swanky nightclub in this comedy based on a \"Saturday Night Live\" sketch.",
          "Fievel and his family head west for what turns out to be a wild adventure. Deep in cowboy country, the intrepid mouse faces down a nasty feline.",
          "When a monster goes on a mouse-napping spree in New York, Fievel and his friends help a reporter get to the bottom of the mystery.",
          "Newly released KGB files expose evidence proving how architects and engineers conspired with the Nazis to build a camp designed for genocide.",
          "Balto, who is half wolf and half dog, endures the taunts of disapproving humans as he guides a precious cargo of medicine through the Alaskan winter."
         ],
         "director": [
          "John Fortenberry",
          "Phil Nibbelink, Simon Wells",
          "Larry Latham",
          "Mike Rossiter",
          "Simon Wells"
         ],
         "duration": [
          82,
          75,
          75,
          49,
          78
         ],
         "genre": [
          "Comedies",
          "Children",
          "Children",
          "Documentaries",
          "Children"
         ],
         "index": [
          145,
          333,
          334,
          428,
          479
         ],
         "release_year": [
          1998,
          1991,
          1999,
          1994,
          1995
         ],
         "show_id": [
          "s211",
          "s487",
          "s488",
          "s624",
          "s709"
         ],
         "title": [
          "A Night at the Roxbury",
          "An American Tail: Fievel Goes West",
          "An American Tail: The Mystery of the Night Monster",
          "Auschwitz: Blueprints of Genocide",
          "Balto"
         ],
         "type": [
          "Movie",
          "Movie",
          "Movie",
          "Movie",
          "Movie"
         ]
        },
        "schema": {
         "fields": [
          {
           "name": "index",
           "type": "integer"
          },
          {
           "name": "show_id",
           "type": "string"
          },
          {
           "name": "type",
           "type": "string"
          },
          {
           "name": "title",
           "type": "string"
          },
          {
           "name": "director",
           "type": "string"
          },
          {
           "name": "cast",
           "type": "string"
          },
          {
           "name": "country",
           "type": "string"
          },
          {
           "name": "date_added",
           "type": "string"
          },
          {
           "name": "release_year",
           "type": "integer"
          },
          {
           "name": "duration",
           "type": "integer"
          },
          {
           "name": "description",
           "type": "string"
          },
          {
           "name": "genre",
           "type": "string"
          }
         ],
         "pandas_version": "1.4.0",
         "primaryKey": [
          "index"
         ]
        }
       },
       "total_rows": 5,
       "truncation_type": null
      },
      "text/html": [
       "<div>\n",
       "<style scoped>\n",
       "    .dataframe tbody tr th:only-of-type {\n",
       "        vertical-align: middle;\n",
       "    }\n",
       "\n",
       "    .dataframe tbody tr th {\n",
       "        vertical-align: top;\n",
       "    }\n",
       "\n",
       "    .dataframe thead th {\n",
       "        text-align: right;\n",
       "    }\n",
       "</style>\n",
       "<table border=\"1\" class=\"dataframe\">\n",
       "  <thead>\n",
       "    <tr style=\"text-align: right;\">\n",
       "      <th></th>\n",
       "      <th>show_id</th>\n",
       "      <th>type</th>\n",
       "      <th>title</th>\n",
       "      <th>director</th>\n",
       "      <th>cast</th>\n",
       "      <th>country</th>\n",
       "      <th>date_added</th>\n",
       "      <th>release_year</th>\n",
       "      <th>duration</th>\n",
       "      <th>description</th>\n",
       "      <th>genre</th>\n",
       "    </tr>\n",
       "  </thead>\n",
       "  <tbody>\n",
       "    <tr>\n",
       "      <th>145</th>\n",
       "      <td>s211</td>\n",
       "      <td>Movie</td>\n",
       "      <td>A Night at the Roxbury</td>\n",
       "      <td>John Fortenberry</td>\n",
       "      <td>Will Ferrell, Chris Kattan, Dan Hedaya, Molly ...</td>\n",
       "      <td>United States</td>\n",
       "      <td>December 1, 2019</td>\n",
       "      <td>1998</td>\n",
       "      <td>82</td>\n",
       "      <td>After a run-in with Richard Grieco, dimwits Do...</td>\n",
       "      <td>Comedies</td>\n",
       "    </tr>\n",
       "    <tr>\n",
       "      <th>333</th>\n",
       "      <td>s487</td>\n",
       "      <td>Movie</td>\n",
       "      <td>An American Tail: Fievel Goes West</td>\n",
       "      <td>Phil Nibbelink, Simon Wells</td>\n",
       "      <td>Philip Glasser, James Stewart, Erica Yohn, Cat...</td>\n",
       "      <td>United States</td>\n",
       "      <td>April 1, 2018</td>\n",
       "      <td>1991</td>\n",
       "      <td>75</td>\n",
       "      <td>Fievel and his family head west for what turns...</td>\n",
       "      <td>Children</td>\n",
       "    </tr>\n",
       "    <tr>\n",
       "      <th>334</th>\n",
       "      <td>s488</td>\n",
       "      <td>Movie</td>\n",
       "      <td>An American Tail: The Mystery of the Night Mon...</td>\n",
       "      <td>Larry Latham</td>\n",
       "      <td>Thomas Dekker, Lacey Chabert, Jane Singer, Neh...</td>\n",
       "      <td>United States</td>\n",
       "      <td>April 1, 2018</td>\n",
       "      <td>1999</td>\n",
       "      <td>75</td>\n",
       "      <td>When a monster goes on a mouse-napping spree i...</td>\n",
       "      <td>Children</td>\n",
       "    </tr>\n",
       "    <tr>\n",
       "      <th>428</th>\n",
       "      <td>s624</td>\n",
       "      <td>Movie</td>\n",
       "      <td>Auschwitz: Blueprints of Genocide</td>\n",
       "      <td>Mike Rossiter</td>\n",
       "      <td>Roy Marsden</td>\n",
       "      <td>United Kingdom</td>\n",
       "      <td>January 19, 2019</td>\n",
       "      <td>1994</td>\n",
       "      <td>49</td>\n",
       "      <td>Newly released KGB files expose evidence provi...</td>\n",
       "      <td>Documentaries</td>\n",
       "    </tr>\n",
       "    <tr>\n",
       "      <th>479</th>\n",
       "      <td>s709</td>\n",
       "      <td>Movie</td>\n",
       "      <td>Balto</td>\n",
       "      <td>Simon Wells</td>\n",
       "      <td>Kevin Bacon, Bob Hoskins, Bridget Fonda, Jim C...</td>\n",
       "      <td>United States</td>\n",
       "      <td>April 1, 2018</td>\n",
       "      <td>1995</td>\n",
       "      <td>78</td>\n",
       "      <td>Balto, who is half wolf and half dog, endures ...</td>\n",
       "      <td>Children</td>\n",
       "    </tr>\n",
       "  </tbody>\n",
       "</table>\n",
       "</div>"
      ],
      "text/plain": [
       "    show_id  ...          genre\n",
       "145    s211  ...       Comedies\n",
       "333    s487  ...       Children\n",
       "334    s488  ...       Children\n",
       "428    s624  ...  Documentaries\n",
       "479    s709  ...       Children\n",
       "\n",
       "[5 rows x 11 columns]"
      ]
     },
     "execution_count": 61,
     "metadata": {},
     "output_type": "execute_result"
    }
   ],
   "source": [
    "netflix_short_movie_df_90s.head()"
   ]
  },
  {
   "cell_type": "code",
   "execution_count": 62,
   "id": "e846773e-14f9-45a4-a5a0-95035d5ef11e",
   "metadata": {
    "executionCancelledAt": null,
    "executionTime": 52,
    "lastExecutedAt": 1731072748736,
    "lastExecutedByKernel": "af4eb0cf-1a1f-40a5-9b77-17524f254413",
    "lastScheduledRunId": null,
    "lastSuccessfullyExecutedCode": "netflix_short_movie_df_90s['genre'].unique()"
   },
   "outputs": [
    {
     "data": {
      "text/plain": [
       "array(['Comedies', 'Children', 'Documentaries', 'Stand-Up', 'Action',\n",
       "       'Dramas'], dtype=object)"
      ]
     },
     "execution_count": 62,
     "metadata": {},
     "output_type": "execute_result"
    }
   ],
   "source": [
    "netflix_short_movie_df_90s['genre'].unique()"
   ]
  },
  {
   "cell_type": "code",
   "execution_count": 63,
   "id": "50f54e90-0bce-4425-b33d-b5917985dd88",
   "metadata": {
    "executionCancelledAt": null,
    "executionTime": 48,
    "lastExecutedAt": 1731072748784,
    "lastExecutedByKernel": "af4eb0cf-1a1f-40a5-9b77-17524f254413",
    "lastScheduledRunId": null,
    "lastSuccessfullyExecutedCode": "netflix_short_movie_df_90s.shape"
   },
   "outputs": [
    {
     "data": {
      "text/plain": [
       "(34, 11)"
      ]
     },
     "execution_count": 63,
     "metadata": {},
     "output_type": "execute_result"
    }
   ],
   "source": [
    "netflix_short_movie_df_90s.shape"
   ]
  },
  {
   "cell_type": "code",
   "execution_count": 64,
   "id": "d50d1cc3-62d7-47cc-8f84-b2f4fa0aad5c",
   "metadata": {
    "executionCancelledAt": null,
    "executionTime": 49,
    "lastExecutedAt": 1731072748833,
    "lastExecutedByKernel": "af4eb0cf-1a1f-40a5-9b77-17524f254413",
    "lastScheduledRunId": null,
    "lastSuccessfullyExecutedCode": "print(len(netflix_short_movie_df_90s[netflix_short_movie_df_90s['genre']=='Action']))",
    "outputsMetadata": {
     "0": {
      "height": 38,
      "type": "stream"
     }
    }
   },
   "outputs": [
    {
     "name": "stdout",
     "output_type": "stream",
     "text": [
      "7\n"
     ]
    }
   ],
   "source": [
    "print(len(netflix_short_movie_df_90s[netflix_short_movie_df_90s['genre']=='Action']))"
   ]
  },
  {
   "cell_type": "code",
   "execution_count": 65,
   "id": "d2a3b750-d926-4917-91bd-a6df62e5f994",
   "metadata": {
    "executionCancelledAt": null,
    "executionTime": 47,
    "lastExecutedAt": 1731072748880,
    "lastExecutedByKernel": "af4eb0cf-1a1f-40a5-9b77-17524f254413",
    "lastScheduledRunId": null,
    "lastSuccessfullyExecutedCode": "short_movie_count = 7"
   },
   "outputs": [],
   "source": [
    "short_movie_count = 7"
   ]
  },
  {
   "cell_type": "code",
   "execution_count": 65,
   "id": "8788ddd4-c304-47de-9720-4c1a3520f1f3",
   "metadata": {
    "executionCancelledAt": null,
    "executionTime": 50,
    "lastExecutedAt": 1731072748930,
    "lastExecutedByKernel": "af4eb0cf-1a1f-40a5-9b77-17524f254413",
    "lastScheduledRunId": null,
    "lastSuccessfullyExecutedCode": ""
   },
   "outputs": [],
   "source": []
  }
 ],
 "metadata": {
  "colab": {
   "name": "Welcome to DataCamp Workspaces.ipynb",
   "provenance": []
  },
  "editor": "DataLab",
  "kernelspec": {
   "display_name": "Python 3 (ipykernel)",
   "language": "python",
   "name": "python3"
  },
  "language_info": {
   "codemirror_mode": {
    "name": "ipython",
    "version": 3
   },
   "file_extension": ".py",
   "mimetype": "text/x-python",
   "name": "python",
   "nbconvert_exporter": "python",
   "pygments_lexer": "ipython3",
   "version": "3.12.7"
  }
 },
 "nbformat": 4,
 "nbformat_minor": 5
}
